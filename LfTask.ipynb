{
  "nbformat": 4,
  "nbformat_minor": 0,
  "metadata": {
    "colab": {
      "name": "LfTask_.ipynb",
      "provenance": [],
      "collapsed_sections": [],
      "authorship_tag": "ABX9TyPWAdmzEosUBShj8/mLIidt",
      "include_colab_link": true
    },
    "kernelspec": {
      "name": "python3",
      "display_name": "Python 3"
    },
    "language_info": {
      "name": "python"
    }
  },
  "cells": [
    {
      "cell_type": "markdown",
      "metadata": {
        "id": "view-in-github",
        "colab_type": "text"
      },
      "source": [
        "<a href=\"https://colab.research.google.com/github/vsnupoudel/Flask/blob/master/LfTask.ipynb\" target=\"_parent\"><img src=\"https://colab.research.google.com/assets/colab-badge.svg\" alt=\"Open In Colab\"/></a>"
      ]
    },
    {
      "cell_type": "code",
      "metadata": {
        "id": "1S1kIlmVVhs9"
      },
      "source": [
        "import numpy as np\n",
        "import pandas as pd\n",
        "import random"
      ],
      "execution_count": 1,
      "outputs": []
    },
    {
      "cell_type": "code",
      "metadata": {
        "colab": {
          "base_uri": "https://localhost:8080/"
        },
        "id": "bepnKTwIkGrj",
        "outputId": "a4dec61d-ed7e-467b-d7cd-102545c33a9d"
      },
      "source": [
        "!mkdir -p '/content/data/'\n",
        "%cd /content/data/"
      ],
      "execution_count": 2,
      "outputs": [
        {
          "output_type": "stream",
          "text": [
            "/content/data\n"
          ],
          "name": "stdout"
        }
      ]
    },
    {
      "cell_type": "code",
      "metadata": {
        "colab": {
          "resources": {
            "http://localhost:8080/nbextensions/google.colab/files.js": {
              "data": "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",
              "ok": true,
              "headers": [
                [
                  "content-type",
                  "application/javascript"
                ]
              ],
              "status": 200,
              "status_text": ""
            }
          },
          "base_uri": "https://localhost:8080/",
          "height": 39
        },
        "id": "t3l6HHqgpIw1",
        "outputId": "90fa25c0-0d22-4ba0-f2d5-65ccb88888fa"
      },
      "source": [
        "from google.colab import files\n",
        "uploaded = files.upload()"
      ],
      "execution_count": 3,
      "outputs": [
        {
          "output_type": "display_data",
          "data": {
            "text/html": [
              "\n",
              "     <input type=\"file\" id=\"files-39d297b3-c6e1-4164-84ee-a5b297a122d9\" name=\"files[]\" multiple disabled\n",
              "        style=\"border:none\" />\n",
              "     <output id=\"result-39d297b3-c6e1-4164-84ee-a5b297a122d9\">\n",
              "      Upload widget is only available when the cell has been executed in the\n",
              "      current browser session. Please rerun this cell to enable.\n",
              "      </output>\n",
              "      <script src=\"/nbextensions/google.colab/files.js\"></script> "
            ],
            "text/plain": [
              "<IPython.core.display.HTML object>"
            ]
          },
          "metadata": {
            "tags": []
          }
        }
      ]
    },
    {
      "cell_type": "code",
      "metadata": {
        "colab": {
          "base_uri": "https://localhost:8080/",
          "height": 142
        },
        "id": "zzfrNKZFVnTg",
        "outputId": "fe95dffb-4f62-4ce0-bc23-9ebea2a5bc4e"
      },
      "source": [
        "train= pd.read_csv('/content/data/training.csv', delimiter=';', decimal=',')\n",
        "test= pd.read_csv('/content/data/validation.csv', delimiter=';', decimal=',')\n",
        "# random.seed(12)\n",
        "train.sample(3)"
      ],
      "execution_count": 4,
      "outputs": [
        {
          "output_type": "execute_result",
          "data": {
            "text/html": [
              "<div>\n",
              "<style scoped>\n",
              "    .dataframe tbody tr th:only-of-type {\n",
              "        vertical-align: middle;\n",
              "    }\n",
              "\n",
              "    .dataframe tbody tr th {\n",
              "        vertical-align: top;\n",
              "    }\n",
              "\n",
              "    .dataframe thead th {\n",
              "        text-align: right;\n",
              "    }\n",
              "</style>\n",
              "<table border=\"1\" class=\"dataframe\">\n",
              "  <thead>\n",
              "    <tr style=\"text-align: right;\">\n",
              "      <th></th>\n",
              "      <th>v1</th>\n",
              "      <th>v2</th>\n",
              "      <th>v3</th>\n",
              "      <th>v4</th>\n",
              "      <th>v5</th>\n",
              "      <th>v6</th>\n",
              "      <th>v7</th>\n",
              "      <th>v8</th>\n",
              "      <th>v9</th>\n",
              "      <th>v10</th>\n",
              "      <th>v11</th>\n",
              "      <th>v12</th>\n",
              "      <th>v13</th>\n",
              "      <th>v14</th>\n",
              "      <th>v15</th>\n",
              "      <th>v16</th>\n",
              "      <th>v17</th>\n",
              "      <th>classLabel</th>\n",
              "    </tr>\n",
              "  </thead>\n",
              "  <tbody>\n",
              "    <tr>\n",
              "      <th>59</th>\n",
              "      <td>b</td>\n",
              "      <td>47.67</td>\n",
              "      <td>0.000029</td>\n",
              "      <td>u</td>\n",
              "      <td>-3.095015</td>\n",
              "      <td>0.808325</td>\n",
              "      <td>15.000</td>\n",
              "      <td>t</td>\n",
              "      <td>t</td>\n",
              "      <td>20</td>\n",
              "      <td>f</td>\n",
              "      <td>g</td>\n",
              "      <td>0.0</td>\n",
              "      <td>15000</td>\n",
              "      <td>0.0</td>\n",
              "      <td>t</td>\n",
              "      <td>1</td>\n",
              "      <td>yes.</td>\n",
              "    </tr>\n",
              "    <tr>\n",
              "      <th>1817</th>\n",
              "      <td>a</td>\n",
              "      <td>20.67</td>\n",
              "      <td>0.000183</td>\n",
              "      <td>u</td>\n",
              "      <td>4.289618</td>\n",
              "      <td>0.666588</td>\n",
              "      <td>2.085</td>\n",
              "      <td>t</td>\n",
              "      <td>t</td>\n",
              "      <td>5</td>\n",
              "      <td>f</td>\n",
              "      <td>g</td>\n",
              "      <td>220.0</td>\n",
              "      <td>2503</td>\n",
              "      <td>2200000.0</td>\n",
              "      <td>NaN</td>\n",
              "      <td>1</td>\n",
              "      <td>yes.</td>\n",
              "    </tr>\n",
              "    <tr>\n",
              "      <th>1204</th>\n",
              "      <td>b</td>\n",
              "      <td>21.25</td>\n",
              "      <td>0.000150</td>\n",
              "      <td>u</td>\n",
              "      <td>-3.159203</td>\n",
              "      <td>0.707669</td>\n",
              "      <td>1.500</td>\n",
              "      <td>f</td>\n",
              "      <td>f</td>\n",
              "      <td>0</td>\n",
              "      <td>f</td>\n",
              "      <td>g</td>\n",
              "      <td>150.0</td>\n",
              "      <td>8</td>\n",
              "      <td>1500000.0</td>\n",
              "      <td>NaN</td>\n",
              "      <td>1</td>\n",
              "      <td>yes.</td>\n",
              "    </tr>\n",
              "  </tbody>\n",
              "</table>\n",
              "</div>"
            ],
            "text/plain": [
              "     v1     v2        v3 v4        v5  ...    v14        v15  v16 v17  classLabel\n",
              "59    b  47.67  0.000029  u -3.095015  ...  15000        0.0    t   1        yes.\n",
              "1817  a  20.67  0.000183  u  4.289618  ...   2503  2200000.0  NaN   1        yes.\n",
              "1204  b  21.25  0.000150  u -3.159203  ...      8  1500000.0  NaN   1        yes.\n",
              "\n",
              "[3 rows x 18 columns]"
            ]
          },
          "metadata": {
            "tags": []
          },
          "execution_count": 4
        }
      ]
    },
    {
      "cell_type": "code",
      "metadata": {
        "colab": {
          "base_uri": "https://localhost:8080/",
          "height": 142
        },
        "id": "RToEfLb1dsim",
        "outputId": "af12decd-a40b-41de-e8a1-7f74ef9159b2"
      },
      "source": [
        "test.sample(3)"
      ],
      "execution_count": 5,
      "outputs": [
        {
          "output_type": "execute_result",
          "data": {
            "text/html": [
              "<div>\n",
              "<style scoped>\n",
              "    .dataframe tbody tr th:only-of-type {\n",
              "        vertical-align: middle;\n",
              "    }\n",
              "\n",
              "    .dataframe tbody tr th {\n",
              "        vertical-align: top;\n",
              "    }\n",
              "\n",
              "    .dataframe thead th {\n",
              "        text-align: right;\n",
              "    }\n",
              "</style>\n",
              "<table border=\"1\" class=\"dataframe\">\n",
              "  <thead>\n",
              "    <tr style=\"text-align: right;\">\n",
              "      <th></th>\n",
              "      <th>v1</th>\n",
              "      <th>v2</th>\n",
              "      <th>v3</th>\n",
              "      <th>v4</th>\n",
              "      <th>v5</th>\n",
              "      <th>v6</th>\n",
              "      <th>v7</th>\n",
              "      <th>v8</th>\n",
              "      <th>v9</th>\n",
              "      <th>v10</th>\n",
              "      <th>v11</th>\n",
              "      <th>v12</th>\n",
              "      <th>v13</th>\n",
              "      <th>v14</th>\n",
              "      <th>v15</th>\n",
              "      <th>v16</th>\n",
              "      <th>v17</th>\n",
              "      <th>classLabel</th>\n",
              "    </tr>\n",
              "  </thead>\n",
              "  <tbody>\n",
              "    <tr>\n",
              "      <th>67</th>\n",
              "      <td>b</td>\n",
              "      <td>16.25</td>\n",
              "      <td>0.000000</td>\n",
              "      <td>y</td>\n",
              "      <td>-4.677870</td>\n",
              "      <td>0.706444</td>\n",
              "      <td>0.250</td>\n",
              "      <td>f</td>\n",
              "      <td>f</td>\n",
              "      <td>0</td>\n",
              "      <td>f</td>\n",
              "      <td>g</td>\n",
              "      <td>60.0</td>\n",
              "      <td>0</td>\n",
              "      <td>600000.0</td>\n",
              "      <td>f</td>\n",
              "      <td>0</td>\n",
              "      <td>no.</td>\n",
              "    </tr>\n",
              "    <tr>\n",
              "      <th>157</th>\n",
              "      <td>b</td>\n",
              "      <td>36.17</td>\n",
              "      <td>0.000550</td>\n",
              "      <td>u</td>\n",
              "      <td>-0.866553</td>\n",
              "      <td>0.547565</td>\n",
              "      <td>5.000</td>\n",
              "      <td>f</td>\n",
              "      <td>f</td>\n",
              "      <td>0</td>\n",
              "      <td>f</td>\n",
              "      <td>g</td>\n",
              "      <td>210.0</td>\n",
              "      <td>687</td>\n",
              "      <td>2100000.0</td>\n",
              "      <td>NaN</td>\n",
              "      <td>0</td>\n",
              "      <td>no.</td>\n",
              "    </tr>\n",
              "    <tr>\n",
              "      <th>111</th>\n",
              "      <td>b</td>\n",
              "      <td>27.25</td>\n",
              "      <td>0.000167</td>\n",
              "      <td>u</td>\n",
              "      <td>-3.403563</td>\n",
              "      <td>0.818612</td>\n",
              "      <td>5.085</td>\n",
              "      <td>t</td>\n",
              "      <td>t</td>\n",
              "      <td>9</td>\n",
              "      <td>f</td>\n",
              "      <td>g</td>\n",
              "      <td>399.0</td>\n",
              "      <td>827</td>\n",
              "      <td>3990000.0</td>\n",
              "      <td>NaN</td>\n",
              "      <td>0</td>\n",
              "      <td>yes.</td>\n",
              "    </tr>\n",
              "  </tbody>\n",
              "</table>\n",
              "</div>"
            ],
            "text/plain": [
              "    v1     v2        v3 v4        v5  ...  v14        v15  v16 v17  classLabel\n",
              "67   b  16.25  0.000000  y -4.677870  ...    0   600000.0    f   0         no.\n",
              "157  b  36.17  0.000550  u -0.866553  ...  687  2100000.0  NaN   0         no.\n",
              "111  b  27.25  0.000167  u -3.403563  ...  827  3990000.0  NaN   0        yes.\n",
              "\n",
              "[3 rows x 18 columns]"
            ]
          },
          "metadata": {
            "tags": []
          },
          "execution_count": 5
        }
      ]
    },
    {
      "cell_type": "code",
      "metadata": {
        "id": "KBPt7TImkafq"
      },
      "source": [
        "train.to_csv('/content/data/train.csv', index= False)\n",
        "test.to_csv('/content/data/test.csv', index= False)"
      ],
      "execution_count": 6,
      "outputs": []
    },
    {
      "cell_type": "markdown",
      "metadata": {
        "id": "30JvNMD1WAzu"
      },
      "source": [
        "\n",
        "# Extending pandas dataframe"
      ]
    },
    {
      "cell_type": "code",
      "metadata": {
        "id": "qz0ARYWFiT-1"
      },
      "source": [
        "import pandas as pd\n",
        "class HLSpd():\n",
        "  def __init__(self, csvInput):\n",
        "    self.df = pd.read_csv(csvInput)\n",
        "      \n",
        "  def print_stats_numeric(self):\n",
        "      return self.df.describe(include= np.number).transpose() #.to_json\n",
        "      \n",
        "  def print_stats_object(self):\n",
        "      return self.df.describe(include= np.object).transpose()"
      ],
      "execution_count": 7,
      "outputs": []
    },
    {
      "cell_type": "code",
      "metadata": {
        "id": "KhRCYHQaigjB"
      },
      "source": [
        "tt = HLSpd('/content/data/train.csv')"
      ],
      "execution_count": 8,
      "outputs": []
    },
    {
      "cell_type": "code",
      "metadata": {
        "colab": {
          "base_uri": "https://localhost:8080/",
          "height": 357
        },
        "id": "7p-k0Snki4HO",
        "outputId": "def8e1b6-0e3b-4377-fc68-8df82a735a3c"
      },
      "source": [
        "tt.print_stats_numeric()"
      ],
      "execution_count": 9,
      "outputs": [
        {
          "output_type": "execute_result",
          "data": {
            "text/html": [
              "<div>\n",
              "<style scoped>\n",
              "    .dataframe tbody tr th:only-of-type {\n",
              "        vertical-align: middle;\n",
              "    }\n",
              "\n",
              "    .dataframe tbody tr th {\n",
              "        vertical-align: top;\n",
              "    }\n",
              "\n",
              "    .dataframe thead th {\n",
              "        text-align: right;\n",
              "    }\n",
              "</style>\n",
              "<table border=\"1\" class=\"dataframe\">\n",
              "  <thead>\n",
              "    <tr style=\"text-align: right;\">\n",
              "      <th></th>\n",
              "      <th>count</th>\n",
              "      <th>mean</th>\n",
              "      <th>std</th>\n",
              "      <th>min</th>\n",
              "      <th>25%</th>\n",
              "      <th>50%</th>\n",
              "      <th>75%</th>\n",
              "      <th>max</th>\n",
              "    </tr>\n",
              "  </thead>\n",
              "  <tbody>\n",
              "    <tr>\n",
              "      <th>v2</th>\n",
              "      <td>3661.0</td>\n",
              "      <td>3.282071e+01</td>\n",
              "      <td>1.266618e+01</td>\n",
              "      <td>13.750000</td>\n",
              "      <td>23.000000</td>\n",
              "      <td>2.867000e+01</td>\n",
              "      <td>4.083000e+01</td>\n",
              "      <td>8.025000e+01</td>\n",
              "    </tr>\n",
              "    <tr>\n",
              "      <th>v3</th>\n",
              "      <td>3700.0</td>\n",
              "      <td>5.847872e-04</td>\n",
              "      <td>5.402007e-04</td>\n",
              "      <td>0.000000</td>\n",
              "      <td>0.000150</td>\n",
              "      <td>4.250000e-04</td>\n",
              "      <td>9.625000e-04</td>\n",
              "      <td>2.800000e-03</td>\n",
              "    </tr>\n",
              "    <tr>\n",
              "      <th>v5</th>\n",
              "      <td>3700.0</td>\n",
              "      <td>-5.331808e-02</td>\n",
              "      <td>2.871240e+00</td>\n",
              "      <td>-4.996939</td>\n",
              "      <td>-2.516349</td>\n",
              "      <td>-5.278621e-02</td>\n",
              "      <td>2.406251e+00</td>\n",
              "      <td>4.999274e+00</td>\n",
              "    </tr>\n",
              "    <tr>\n",
              "      <th>v6</th>\n",
              "      <td>3700.0</td>\n",
              "      <td>7.841879e-01</td>\n",
              "      <td>1.365138e-01</td>\n",
              "      <td>0.273945</td>\n",
              "      <td>0.693130</td>\n",
              "      <td>7.878424e-01</td>\n",
              "      <td>8.760522e-01</td>\n",
              "      <td>1.215066e+00</td>\n",
              "    </tr>\n",
              "    <tr>\n",
              "      <th>v7</th>\n",
              "      <td>3700.0</td>\n",
              "      <td>3.439496e+00</td>\n",
              "      <td>4.335229e+00</td>\n",
              "      <td>0.000000</td>\n",
              "      <td>0.500000</td>\n",
              "      <td>1.750000e+00</td>\n",
              "      <td>5.000000e+00</td>\n",
              "      <td>2.850000e+01</td>\n",
              "    </tr>\n",
              "    <tr>\n",
              "      <th>v10</th>\n",
              "      <td>3700.0</td>\n",
              "      <td>4.160000e+00</td>\n",
              "      <td>6.750553e+00</td>\n",
              "      <td>0.000000</td>\n",
              "      <td>0.000000</td>\n",
              "      <td>2.000000e+00</td>\n",
              "      <td>6.000000e+00</td>\n",
              "      <td>6.700000e+01</td>\n",
              "    </tr>\n",
              "    <tr>\n",
              "      <th>v13</th>\n",
              "      <td>3600.0</td>\n",
              "      <td>1.626950e+02</td>\n",
              "      <td>1.560457e+02</td>\n",
              "      <td>0.000000</td>\n",
              "      <td>0.000000</td>\n",
              "      <td>1.200000e+02</td>\n",
              "      <td>2.800000e+02</td>\n",
              "      <td>1.160000e+03</td>\n",
              "    </tr>\n",
              "    <tr>\n",
              "      <th>v14</th>\n",
              "      <td>3700.0</td>\n",
              "      <td>2.246706e+03</td>\n",
              "      <td>8.708571e+03</td>\n",
              "      <td>0.000000</td>\n",
              "      <td>0.000000</td>\n",
              "      <td>1.130000e+02</td>\n",
              "      <td>1.059750e+03</td>\n",
              "      <td>1.000000e+05</td>\n",
              "    </tr>\n",
              "    <tr>\n",
              "      <th>v15</th>\n",
              "      <td>3600.0</td>\n",
              "      <td>1.626950e+06</td>\n",
              "      <td>1.560457e+06</td>\n",
              "      <td>0.000000</td>\n",
              "      <td>0.000000</td>\n",
              "      <td>1.200000e+06</td>\n",
              "      <td>2.800000e+06</td>\n",
              "      <td>1.160000e+07</td>\n",
              "    </tr>\n",
              "    <tr>\n",
              "      <th>v17</th>\n",
              "      <td>3700.0</td>\n",
              "      <td>9.254054e-01</td>\n",
              "      <td>2.627716e-01</td>\n",
              "      <td>0.000000</td>\n",
              "      <td>1.000000</td>\n",
              "      <td>1.000000e+00</td>\n",
              "      <td>1.000000e+00</td>\n",
              "      <td>1.000000e+00</td>\n",
              "    </tr>\n",
              "  </tbody>\n",
              "</table>\n",
              "</div>"
            ],
            "text/plain": [
              "      count          mean  ...           75%           max\n",
              "v2   3661.0  3.282071e+01  ...  4.083000e+01  8.025000e+01\n",
              "v3   3700.0  5.847872e-04  ...  9.625000e-04  2.800000e-03\n",
              "v5   3700.0 -5.331808e-02  ...  2.406251e+00  4.999274e+00\n",
              "v6   3700.0  7.841879e-01  ...  8.760522e-01  1.215066e+00\n",
              "v7   3700.0  3.439496e+00  ...  5.000000e+00  2.850000e+01\n",
              "v10  3700.0  4.160000e+00  ...  6.000000e+00  6.700000e+01\n",
              "v13  3600.0  1.626950e+02  ...  2.800000e+02  1.160000e+03\n",
              "v14  3700.0  2.246706e+03  ...  1.059750e+03  1.000000e+05\n",
              "v15  3600.0  1.626950e+06  ...  2.800000e+06  1.160000e+07\n",
              "v17  3700.0  9.254054e-01  ...  1.000000e+00  1.000000e+00\n",
              "\n",
              "[10 rows x 8 columns]"
            ]
          },
          "metadata": {
            "tags": []
          },
          "execution_count": 9
        }
      ]
    },
    {
      "cell_type": "code",
      "metadata": {
        "colab": {
          "base_uri": "https://localhost:8080/",
          "height": 295
        },
        "id": "m4gwjmMJjTsO",
        "outputId": "95c1ad5c-c621-46a3-82c2-9da92b779bf1"
      },
      "source": [
        "tt.print_stats_object()"
      ],
      "execution_count": 10,
      "outputs": [
        {
          "output_type": "execute_result",
          "data": {
            "text/html": [
              "<div>\n",
              "<style scoped>\n",
              "    .dataframe tbody tr th:only-of-type {\n",
              "        vertical-align: middle;\n",
              "    }\n",
              "\n",
              "    .dataframe tbody tr th {\n",
              "        vertical-align: top;\n",
              "    }\n",
              "\n",
              "    .dataframe thead th {\n",
              "        text-align: right;\n",
              "    }\n",
              "</style>\n",
              "<table border=\"1\" class=\"dataframe\">\n",
              "  <thead>\n",
              "    <tr style=\"text-align: right;\">\n",
              "      <th></th>\n",
              "      <th>count</th>\n",
              "      <th>unique</th>\n",
              "      <th>top</th>\n",
              "      <th>freq</th>\n",
              "    </tr>\n",
              "  </thead>\n",
              "  <tbody>\n",
              "    <tr>\n",
              "      <th>v1</th>\n",
              "      <td>3661</td>\n",
              "      <td>2</td>\n",
              "      <td>b</td>\n",
              "      <td>2382</td>\n",
              "    </tr>\n",
              "    <tr>\n",
              "      <th>v4</th>\n",
              "      <td>3636</td>\n",
              "      <td>3</td>\n",
              "      <td>u</td>\n",
              "      <td>3055</td>\n",
              "    </tr>\n",
              "    <tr>\n",
              "      <th>v8</th>\n",
              "      <td>3700</td>\n",
              "      <td>2</td>\n",
              "      <td>t</td>\n",
              "      <td>3171</td>\n",
              "    </tr>\n",
              "    <tr>\n",
              "      <th>v9</th>\n",
              "      <td>3700</td>\n",
              "      <td>2</td>\n",
              "      <td>t</td>\n",
              "      <td>2239</td>\n",
              "    </tr>\n",
              "    <tr>\n",
              "      <th>v11</th>\n",
              "      <td>3700</td>\n",
              "      <td>2</td>\n",
              "      <td>f</td>\n",
              "      <td>1924</td>\n",
              "    </tr>\n",
              "    <tr>\n",
              "      <th>v12</th>\n",
              "      <td>3700</td>\n",
              "      <td>3</td>\n",
              "      <td>g</td>\n",
              "      <td>3430</td>\n",
              "    </tr>\n",
              "    <tr>\n",
              "      <th>v16</th>\n",
              "      <td>1555</td>\n",
              "      <td>2</td>\n",
              "      <td>t</td>\n",
              "      <td>1023</td>\n",
              "    </tr>\n",
              "    <tr>\n",
              "      <th>classLabel</th>\n",
              "      <td>3700</td>\n",
              "      <td>2</td>\n",
              "      <td>yes.</td>\n",
              "      <td>3424</td>\n",
              "    </tr>\n",
              "  </tbody>\n",
              "</table>\n",
              "</div>"
            ],
            "text/plain": [
              "           count unique   top  freq\n",
              "v1          3661      2     b  2382\n",
              "v4          3636      3     u  3055\n",
              "v8          3700      2     t  3171\n",
              "v9          3700      2     t  2239\n",
              "v11         3700      2     f  1924\n",
              "v12         3700      3     g  3430\n",
              "v16         1555      2     t  1023\n",
              "classLabel  3700      2  yes.  3424"
            ]
          },
          "metadata": {
            "tags": []
          },
          "execution_count": 10
        }
      ]
    },
    {
      "cell_type": "markdown",
      "metadata": {
        "id": "y1sK_8gQ3k6T"
      },
      "source": [
        "# Initial observations from Pandas' describe()\n",
        "- We do have missing values both in numeric and categorical columns; will try to use K neareset neighbour to fil missing values. Will ignore v16 completely as it has more than % missing\n",
        "- Categorical columns have 2 or 3 unique labels only, one hot encoding will be necessary before feeding them to models.\n",
        "- Numeric values have different distributions, so  a form of standardisation will be necessary. Will try standard scaler.. \n",
        "\n",
        "- Also, the classLabel is imbalanced, there are more yes entries than no. Choosing one of the f1 score type metrics will be essential\n"
      ]
    },
    {
      "cell_type": "markdown",
      "metadata": {
        "id": "B_aAVfLJWtU9"
      },
      "source": [
        "# Using TFDV for quick visualization\n",
        "- Installation wll take upto 4 minutes"
      ]
    },
    {
      "cell_type": "code",
      "metadata": {
        "id": "TEGLW0UJsXdh"
      },
      "source": [
        "# !pip install tensorflow_data_validation\n",
        "# !pip install apache-beam[interactive]"
      ],
      "execution_count": 11,
      "outputs": []
    },
    {
      "cell_type": "code",
      "metadata": {
        "id": "G93HAo1o6RCV"
      },
      "source": [
        "TRAIN_LOCATION = f'/content/data/train.csv'\n",
        "TEST_LOCATION = f'/content/data/test.csv'"
      ],
      "execution_count": 12,
      "outputs": []
    },
    {
      "cell_type": "code",
      "metadata": {
        "colab": {
          "base_uri": "https://localhost:8080/",
          "height": 188
        },
        "id": "jjuXCblR3E-5",
        "outputId": "3c50c4ab-5574-41f8-9b9d-0cbbd2e7002f"
      },
      "source": [
        "import tensorflow_data_validation as tfdv\n",
        "\n",
        "stats_train = tfdv.generate_statistics_from_csv(data_location= TRAIN_LOCATION)\n",
        "stats_test = tfdv.generate_statistics_from_csv(data_location= TEST_LOCATION)"
      ],
      "execution_count": 13,
      "outputs": [
        {
          "output_type": "display_data",
          "data": {
            "application/javascript": [
              "\n",
              "        if (typeof window.interactive_beam_jquery == 'undefined') {\n",
              "          var jqueryScript = document.createElement('script');\n",
              "          jqueryScript.src = 'https://code.jquery.com/jquery-3.4.1.slim.min.js';\n",
              "          jqueryScript.type = 'text/javascript';\n",
              "          jqueryScript.onload = function() {\n",
              "            var datatableScript = document.createElement('script');\n",
              "            datatableScript.src = 'https://cdn.datatables.net/1.10.20/js/jquery.dataTables.min.js';\n",
              "            datatableScript.type = 'text/javascript';\n",
              "            datatableScript.onload = function() {\n",
              "              window.interactive_beam_jquery = jQuery.noConflict(true);\n",
              "              window.interactive_beam_jquery(document).ready(function($){\n",
              "                \n",
              "              });\n",
              "            }\n",
              "            document.head.appendChild(datatableScript);\n",
              "          };\n",
              "          document.head.appendChild(jqueryScript);\n",
              "        } else {\n",
              "          window.interactive_beam_jquery(document).ready(function($){\n",
              "            \n",
              "          });\n",
              "        }"
            ]
          },
          "metadata": {
            "tags": []
          }
        },
        {
          "output_type": "stream",
          "text": [
            "WARNING:apache_beam.io.tfrecordio:Couldn't find python-snappy so the implementation of _TFRecordUtil._masked_crc32c is not as fast as it could be.\n"
          ],
          "name": "stderr"
        },
        {
          "output_type": "stream",
          "text": [
            "WARNING:tensorflow:From /usr/local/lib/python3.7/dist-packages/tensorflow_data_validation/utils/stats_util.py:247: tf_record_iterator (from tensorflow.python.lib.io.tf_record) is deprecated and will be removed in a future version.\n",
            "Instructions for updating:\n",
            "Use eager execution and: \n",
            "`tf.data.TFRecordDataset(path)`\n"
          ],
          "name": "stdout"
        },
        {
          "output_type": "stream",
          "text": [
            "WARNING:tensorflow:From /usr/local/lib/python3.7/dist-packages/tensorflow_data_validation/utils/stats_util.py:247: tf_record_iterator (from tensorflow.python.lib.io.tf_record) is deprecated and will be removed in a future version.\n",
            "Instructions for updating:\n",
            "Use eager execution and: \n",
            "`tf.data.TFRecordDataset(path)`\n"
          ],
          "name": "stderr"
        }
      ]
    },
    {
      "cell_type": "markdown",
      "metadata": {
        "id": "4UHySr5MHc0R"
      },
      "source": [
        "Visualize just the train statistics for now.\n",
        "- This satisfies most of what is asked in the assingmnent, except outlier detection. ( Outlier can be detected from histogram to the right also)\n",
        "- Box plots / Violin plots are better for outlier detection"
      ]
    },
    {
      "cell_type": "code",
      "metadata": {
        "colab": {
          "base_uri": "https://localhost:8080/",
          "height": 1000
        },
        "id": "gAAXz7LG5Ik1",
        "outputId": "ba8325ac-e235-4341-c6cd-52fd033e54c2"
      },
      "source": [
        "tfdv.visualize_statistics( stats_train )"
      ],
      "execution_count": 14,
      "outputs": [
        {
          "output_type": "display_data",
          "data": {
            "text/html": [
              "<iframe id='facets-iframe' width=\"100%\" height=\"500px\"></iframe>\n",
              "        <script>\n",
              "        facets_iframe = document.getElementById('facets-iframe');\n",
              "        facets_html = '<script src=\"https://cdnjs.cloudflare.com/ajax/libs/webcomponentsjs/1.3.3/webcomponents-lite.js\"><\\/script><link rel=\"import\" href=\"https://raw.githubusercontent.com/PAIR-code/facets/master/facets-dist/facets-jupyter.html\"><facets-overview proto-input=\"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\"></facets-overview>';\n",
              "        facets_iframe.srcdoc = facets_html;\n",
              "         facets_iframe.id = \"\";\n",
              "         setTimeout(() => {\n",
              "           facets_iframe.setAttribute('height', facets_iframe.contentWindow.document.body.offsetHeight + 'px')\n",
              "         }, 1500)\n",
              "         </script>"
            ],
            "text/plain": [
              "<IPython.core.display.HTML object>"
            ]
          },
          "metadata": {
            "tags": []
          }
        }
      ]
    },
    {
      "cell_type": "markdown",
      "metadata": {
        "id": "Y02zz3S_KCdU"
      },
      "source": [
        "# To do : Violin plot for better outlier detection"
      ]
    },
    {
      "cell_type": "code",
      "metadata": {
        "id": "efK29qeL7BVf"
      },
      "source": [
        "import seaborn as sns"
      ],
      "execution_count": 15,
      "outputs": []
    },
    {
      "cell_type": "markdown",
      "metadata": {
        "id": "sf1u2EvlLgqK"
      },
      "source": [
        "# To do: Feature Selection and/or Feature Engineering\n",
        "- Skipping for now as I plan to use Neural network and Keras Tuner. DNN is in a way automated feature Engineering/Selection\n",
        "\n",
        "- https://scikit-learn.org/stable/modules/feature_selection.html"
      ]
    },
    {
      "cell_type": "markdown",
      "metadata": {
        "id": "GsNc8bM8O2ty"
      },
      "source": [
        "Preprocessing function for inputs similar to the data provided( Semicolon separated file, with comma as decimal)"
      ]
    },
    {
      "cell_type": "markdown",
      "metadata": {
        "id": "RxuU3ZbwQjcx"
      },
      "source": [
        "**Fit imputer with training data**"
      ]
    },
    {
      "cell_type": "code",
      "metadata": {
        "id": "_aPAoknSLMvn"
      },
      "source": [
        "from sklearn.impute import KNNImputer\n",
        "from sklearn.preprocessing import StandardScaler\n",
        "from sklearn.pipeline import Pipeline\n",
        "from sklearn.preprocessing import FunctionTransformer"
      ],
      "execution_count": 16,
      "outputs": []
    },
    {
      "cell_type": "code",
      "metadata": {
        "id": "E4Udolwrj1bK"
      },
      "source": [
        "TRAIN_LOCATION = f'/content/data/training.csv'\n",
        "TEST_LOCATION = f'/content/data/validation.csv'\n"
      ],
      "execution_count": 17,
      "outputs": []
    },
    {
      "cell_type": "code",
      "metadata": {
        "id": "EJAAaIemsm37"
      },
      "source": [
        "#  pd.read_csv( TEST_LOCATION , delimiter=';', decimal=',')['classLabel'].unique()"
      ],
      "execution_count": 18,
      "outputs": []
    },
    {
      "cell_type": "markdown",
      "metadata": {
        "id": "zDanPIlBuZW4"
      },
      "source": [
        "**Function to replace 'no.' or 'yes.' to 0 and 1 respectively**"
      ]
    },
    {
      "cell_type": "code",
      "metadata": {
        "id": "5rtokY4hrN-U"
      },
      "source": [
        "label_diction = { 'no.': 0 , 'yes.':1, 'yes':1, 'no':0}\n",
        "def load_labels(inputCsv):\n",
        "  return pd.read_csv( inputCsv , delimiter=';', decimal=',')['classLabel'].str.lower().replace(to_replace= label_diction)"
      ],
      "execution_count": 19,
      "outputs": []
    },
    {
      "cell_type": "code",
      "metadata": {
        "id": "8CEzJascQFKZ"
      },
      "source": [
        " def load_into_dataframe(inputCsv) :\n",
        "  df = pd.read_csv( inputCsv , delimiter=';', decimal=',')  # load as dataframe\n",
        "  df = df.drop(columns= ['v16','classLabel'])  #drop the column that has 50% training\n",
        "  global COLS\n",
        "  COLS = df.columns\n",
        "  return df"
      ],
      "execution_count": 20,
      "outputs": []
    },
    {
      "cell_type": "code",
      "metadata": {
        "id": "ZO8IqdnJPFcV"
      },
      "source": [
        "def one_hot_encode(dfin):\n",
        "  # dfin = pd.DataFrame(dfin, columns= COLS )\n",
        "  return pd.get_dummies(dfin\n",
        "                 , columns= ['v1','v4','v8','v9','v11','v12']\n",
        "                 , drop_first=False) # false as other values might be in test set or later"
      ],
      "execution_count": 21,
      "outputs": []
    },
    {
      "cell_type": "code",
      "metadata": {
        "id": "aKNHvuegf3Ji"
      },
      "source": [
        "pipe = Pipeline([\n",
        "                  (  'load_into_df', FunctionTransformer( load_into_dataframe )  )                     \n",
        "                    , ( 'one_hot_enc' ,  FunctionTransformer( one_hot_encode ) )     \n",
        "                    , ('imputer', KNNImputer(n_neighbors=3) )     \n",
        "                    , ('scaler', StandardScaler()  )          \n",
        "                    ])"
      ],
      "execution_count": 22,
      "outputs": []
    },
    {
      "cell_type": "code",
      "metadata": {
        "id": "FQXGJJ9HX9gi"
      },
      "source": [
        "# df = one_hot_encode( load_into_dataframe(TRAIN_LOCATION) )\n",
        "# ddf = KNNImputer().fit_transform(df)"
      ],
      "execution_count": 23,
      "outputs": []
    },
    {
      "cell_type": "code",
      "metadata": {
        "id": "OikKfNgXlqP_"
      },
      "source": [
        "pfit = pipe.fit( TRAIN_LOCATION )\n",
        "X_train = pfit.transform( TRAIN_LOCATION)\n",
        "X_test = pfit.transform( TEST_LOCATION )"
      ],
      "execution_count": 24,
      "outputs": []
    },
    {
      "cell_type": "code",
      "metadata": {
        "id": "6e40xI0DoqHt"
      },
      "source": [
        "y_train = load_labels(TRAIN_LOCATION)\n",
        "y_test = load_labels(TEST_LOCATION)"
      ],
      "execution_count": 25,
      "outputs": []
    },
    {
      "cell_type": "markdown",
      "metadata": {
        "id": "R0ArrIVYsFIp"
      },
      "source": [
        "# Train a DNN with Keras and Keras tuner"
      ]
    },
    {
      "cell_type": "code",
      "metadata": {
        "id": "gUzhbrwpulxv"
      },
      "source": [
        "# pip install keras-tuner --upgrade"
      ],
      "execution_count": 45,
      "outputs": []
    },
    {
      "cell_type": "code",
      "metadata": {
        "id": "gbnvNaLNx9dN"
      },
      "source": [
        "import keras_tuner as kt\n",
        "from tensorflow import keras\n",
        "import numpy as np\n",
        "import tensorflow as tf"
      ],
      "execution_count": 68,
      "outputs": []
    },
    {
      "cell_type": "code",
      "metadata": {
        "id": "O075xnJvyN07"
      },
      "source": [
        "def build_model(hp):\n",
        "  model = keras.Sequential()\n",
        "  model.add(keras.layers.Dense(\n",
        "      hp.Choice('dense1',  list(range(8,32,4))  ),\n",
        "      activation='relu'))\n",
        "  \n",
        "  model.add(keras.layers.Dropout(0.5))\n",
        "  \n",
        "  model.add(keras.layers.Dense(\n",
        "      hp.Choice('dense2',  list(range(4,12,4))  ),\n",
        "      activation='tanh'))\n",
        "  \n",
        "  model.add(keras.layers.Dense(1, activation='sigmoid'))\n",
        "\n",
        "  model.compile(loss='binary_crossentropy', metrics = [keras.metrics.AUC()\n",
        "                  , 'accuracy'])\n",
        "  return model"
      ],
      "execution_count": 87,
      "outputs": []
    },
    {
      "cell_type": "code",
      "metadata": {
        "colab": {
          "base_uri": "https://localhost:8080/"
        },
        "id": "cmICz2yUz_VG",
        "outputId": "83e636c5-4e58-484c-ba61-4833007c2700"
      },
      "source": [
        "tuner = kt.RandomSearch(\n",
        "            build_model,\n",
        "            objective='val_loss',\n",
        "            max_trials=25,\n",
        "            directory = '/content/data')"
      ],
      "execution_count": 88,
      "outputs": [
        {
          "output_type": "stream",
          "text": [
            "INFO:tensorflow:Reloading Oracle from existing project /content/data/untitled_project/oracle.json\n"
          ],
          "name": "stdout"
        },
        {
          "output_type": "stream",
          "text": [
            "INFO:tensorflow:Reloading Oracle from existing project /content/data/untitled_project/oracle.json\n"
          ],
          "name": "stderr"
        }
      ]
    },
    {
      "cell_type": "code",
      "metadata": {
        "id": "mlMOWjSoDwAb"
      },
      "source": [
        "from sklearn.model_selection import train_test_split\n",
        "# X_tr, y_tr, X_val , y_val = train_test_split( X_train, y_train, test_size= 0.2, stratify= y_train)"
      ],
      "execution_count": 89,
      "outputs": []
    },
    {
      "cell_type": "code",
      "metadata": {
        "colab": {
          "base_uri": "https://localhost:8080/"
        },
        "id": "YIIZxPSD0PRY",
        "outputId": "58819165-785c-41e7-e7be-3594dbfc8ca2"
      },
      "source": [
        "tuner.search(X_train, y_train, epochs= 25, validation_split = 0.25 ) # try validation percentage"
      ],
      "execution_count": 90,
      "outputs": [
        {
          "output_type": "stream",
          "text": [
            "Trial 10 Complete [00h 00m 11s]\n",
            "val_loss: 0.0004229855549056083\n",
            "\n",
            "Best val_loss So Far: 8.034301572479308e-05\n",
            "Total elapsed time: 00h 01m 31s\n",
            "INFO:tensorflow:Oracle triggered exit\n"
          ],
          "name": "stdout"
        },
        {
          "output_type": "stream",
          "text": [
            "INFO:tensorflow:Oracle triggered exit\n"
          ],
          "name": "stderr"
        }
      ]
    },
    {
      "cell_type": "code",
      "metadata": {
        "colab": {
          "base_uri": "https://localhost:8080/"
        },
        "id": "lPR_o9I_14_j",
        "outputId": "b87a84d4-902d-4716-a92c-7ddf80362b86"
      },
      "source": [
        "tuner.results_summary()"
      ],
      "execution_count": 91,
      "outputs": [
        {
          "output_type": "stream",
          "text": [
            "Results summary\n",
            "Results in /content/data/untitled_project\n",
            "Showing 10 best trials\n",
            "Objective(name='val_loss', direction='min')\n",
            "Trial summary\n",
            "Hyperparameters:\n",
            "dense1: 24\n",
            "dense2: 8\n",
            "Score: 8.034301572479308e-05\n",
            "Trial summary\n",
            "Hyperparameters:\n",
            "dense1: 20\n",
            "dense2: 8\n",
            "Score: 8.726548549020663e-05\n",
            "Trial summary\n",
            "Hyperparameters:\n",
            "dense1: 16\n",
            "dense2: 8\n",
            "Score: 0.00014577469846699387\n",
            "Trial summary\n",
            "Hyperparameters:\n",
            "dense1: 28\n",
            "dense2: 4\n",
            "Score: 0.0001484658569097519\n",
            "Trial summary\n",
            "Hyperparameters:\n",
            "dense1: 20\n",
            "dense2: 4\n",
            "Score: 0.0002825883566401899\n",
            "Trial summary\n",
            "Hyperparameters:\n",
            "dense1: 24\n",
            "dense2: 4\n",
            "Score: 0.00029054819606244564\n",
            "Trial summary\n",
            "Hyperparameters:\n",
            "dense1: 12\n",
            "dense2: 8\n",
            "Score: 0.0004229855549056083\n",
            "Trial summary\n",
            "Hyperparameters:\n",
            "dense1: 16\n",
            "dense2: 4\n",
            "Score: 0.0004893004079349339\n",
            "Trial summary\n",
            "Hyperparameters:\n",
            "dense1: 8\n",
            "dense2: 8\n",
            "Score: 0.0021568527445197105\n",
            "Trial summary\n",
            "Hyperparameters:\n",
            "dense1: 8\n",
            "dense2: 4\n",
            "Score: 0.002446168102324009\n"
          ],
          "name": "stdout"
        }
      ]
    },
    {
      "cell_type": "code",
      "metadata": {
        "colab": {
          "base_uri": "https://localhost:8080/"
        },
        "id": "QSVeaHHT2UG2",
        "outputId": "a438a5e3-ff40-4af2-dbbc-06fd7512fd18"
      },
      "source": [
        "# Retrieve the best model.\n",
        "best_model = tuner.get_best_models(num_models=1)[0]\n",
        "\n",
        "# Evaluate the best model.\n",
        "loss, auc, accuracy = best_model.evaluate(X_test, y_test)"
      ],
      "execution_count": 92,
      "outputs": [
        {
          "output_type": "stream",
          "text": [
            "7/7 [==============================] - 0s 2ms/step - loss: 4.4696 - auc: 0.4955 - accuracy: 0.4950\n"
          ],
          "name": "stdout"
        }
      ]
    },
    {
      "cell_type": "markdown",
      "metadata": {
        "id": "LsbpLCyRArb0"
      },
      "source": [
        "Removing directory works"
      ]
    },
    {
      "cell_type": "code",
      "metadata": {
        "id": "YEysRKSX_nLB"
      },
      "source": [
        "!rm -rf '/content/data/untitled_project'"
      ],
      "execution_count": 102,
      "outputs": []
    },
    {
      "cell_type": "code",
      "metadata": {
        "colab": {
          "base_uri": "https://localhost:8080/"
        },
        "id": "mMs2hQAIEZOv",
        "outputId": "7f1b82df-7c60-437f-83aa-80c7518e60bd"
      },
      "source": [
        "y_test.value_counts()"
      ],
      "execution_count": 94,
      "outputs": [
        {
          "output_type": "execute_result",
          "data": {
            "text/plain": [
              "0    107\n",
              "1     93\n",
              "Name: classLabel, dtype: int64"
            ]
          },
          "metadata": {
            "tags": []
          },
          "execution_count": 94
        }
      ]
    },
    {
      "cell_type": "code",
      "metadata": {
        "colab": {
          "base_uri": "https://localhost:8080/"
        },
        "id": "O2cX-mZvGLhq",
        "outputId": "075eec6e-7dfc-4063-8236-0c58b525836f"
      },
      "source": [
        "y_train.value_counts()"
      ],
      "execution_count": 95,
      "outputs": [
        {
          "output_type": "execute_result",
          "data": {
            "text/plain": [
              "1    3424\n",
              "0     276\n",
              "Name: classLabel, dtype: int64"
            ]
          },
          "metadata": {
            "tags": []
          },
          "execution_count": 95
        }
      ]
    },
    {
      "cell_type": "markdown",
      "metadata": {
        "id": "vlII-b1cHJCC"
      },
      "source": [
        "## Test accuracy is bleak, sometimes worse than random guess ( 50%)\n",
        "- But training is 100%. Major overfitting going on"
      ]
    },
    {
      "cell_type": "code",
      "metadata": {
        "colab": {
          "base_uri": "https://localhost:8080/"
        },
        "id": "41h9rMWCGNdF",
        "outputId": "eea4f402-76c3-43fc-befd-49711f24b91f"
      },
      "source": [
        "from sklearn.metrics import confusion_matrix\n",
        "\n",
        "confusion_matrix( y_test , best_model.predict(X_test)>=0.5 )"
      ],
      "execution_count": 100,
      "outputs": [
        {
          "output_type": "execute_result",
          "data": {
            "text/plain": [
              "array([[53, 54],\n",
              "       [47, 46]])"
            ]
          },
          "metadata": {
            "tags": []
          },
          "execution_count": 100
        }
      ]
    },
    {
      "cell_type": "code",
      "metadata": {
        "colab": {
          "base_uri": "https://localhost:8080/"
        },
        "id": "trPRk2NWGq1U",
        "outputId": "6017df3d-a036-47ff-e66e-e007805c1f6a"
      },
      "source": [
        "confusion_matrix( y_train , best_model.predict(X_train)>=0.5 )"
      ],
      "execution_count": 101,
      "outputs": [
        {
          "output_type": "execute_result",
          "data": {
            "text/plain": [
              "array([[ 276,    0],\n",
              "       [   0, 3424]])"
            ]
          },
          "metadata": {
            "tags": []
          },
          "execution_count": 101
        }
      ]
    },
    {
      "cell_type": "code",
      "metadata": {
        "id": "qTpdyy8CHTYY"
      },
      "source": [
        ""
      ],
      "execution_count": null,
      "outputs": []
    }
  ]
}