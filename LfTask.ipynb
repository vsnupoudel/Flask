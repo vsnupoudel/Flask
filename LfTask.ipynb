{
  "nbformat": 4,
  "nbformat_minor": 0,
  "metadata": {
    "colab": {
      "name": "LfTask.ipynb",
      "provenance": [],
      "collapsed_sections": [],
      "authorship_tag": "ABX9TyPHunMYgOuEvQ9qgjcSNodO",
      "include_colab_link": true
    },
    "kernelspec": {
      "name": "python3",
      "display_name": "Python 3"
    },
    "language_info": {
      "name": "python"
    }
  },
  "cells": [
    {
      "cell_type": "markdown",
      "metadata": {
        "id": "view-in-github",
        "colab_type": "text"
      },
      "source": [
        "<a href=\"https://colab.research.google.com/github/vsnupoudel/Flask/blob/final/LfTask.ipynb\" target=\"_parent\"><img src=\"https://colab.research.google.com/assets/colab-badge.svg\" alt=\"Open In Colab\"/></a>"
      ]
    },
    {
      "cell_type": "code",
      "metadata": {
        "id": "1S1kIlmVVhs9"
      },
      "source": [
        "import numpy as np\n",
        "import pandas as pd\n",
        "import random"
      ],
      "execution_count": 3,
      "outputs": []
    },
    {
      "cell_type": "code",
      "metadata": {
        "colab": {
          "base_uri": "https://localhost:8080/"
        },
        "id": "bepnKTwIkGrj",
        "outputId": "69e12f85-c3fb-4d30-c088-0bdade4cd40d"
      },
      "source": [
        "!mkdir '/content/data/'"
      ],
      "execution_count": 4,
      "outputs": [
        {
          "output_type": "stream",
          "text": [
            "mkdir: cannot create directory ‘/content/data/’: File exists\n"
          ],
          "name": "stdout"
        }
      ]
    },
    {
      "cell_type": "code",
      "metadata": {
        "colab": {
          "base_uri": "https://localhost:8080/",
          "height": 142
        },
        "id": "zzfrNKZFVnTg",
        "outputId": "a6c00d0c-1aee-482d-aea6-bc63f811273f"
      },
      "source": [
        "train= pd.read_csv('/content/data/training.csv', delimiter=';', decimal=',')\n",
        "test= pd.read_csv('/content/data/validation.csv', delimiter=';', decimal=',')\n",
        "# random.seed(12)\n",
        "train.sample(3)"
      ],
      "execution_count": 5,
      "outputs": [
        {
          "output_type": "execute_result",
          "data": {
            "text/html": [
              "<div>\n",
              "<style scoped>\n",
              "    .dataframe tbody tr th:only-of-type {\n",
              "        vertical-align: middle;\n",
              "    }\n",
              "\n",
              "    .dataframe tbody tr th {\n",
              "        vertical-align: top;\n",
              "    }\n",
              "\n",
              "    .dataframe thead th {\n",
              "        text-align: right;\n",
              "    }\n",
              "</style>\n",
              "<table border=\"1\" class=\"dataframe\">\n",
              "  <thead>\n",
              "    <tr style=\"text-align: right;\">\n",
              "      <th></th>\n",
              "      <th>v1</th>\n",
              "      <th>v2</th>\n",
              "      <th>v3</th>\n",
              "      <th>v4</th>\n",
              "      <th>v5</th>\n",
              "      <th>v6</th>\n",
              "      <th>v7</th>\n",
              "      <th>v8</th>\n",
              "      <th>v9</th>\n",
              "      <th>v10</th>\n",
              "      <th>v11</th>\n",
              "      <th>v12</th>\n",
              "      <th>v13</th>\n",
              "      <th>v14</th>\n",
              "      <th>v15</th>\n",
              "      <th>v16</th>\n",
              "      <th>v17</th>\n",
              "      <th>classLabel</th>\n",
              "    </tr>\n",
              "  </thead>\n",
              "  <tbody>\n",
              "    <tr>\n",
              "      <th>2957</th>\n",
              "      <td>a</td>\n",
              "      <td>17.83</td>\n",
              "      <td>0.001100</td>\n",
              "      <td>u</td>\n",
              "      <td>-0.010785</td>\n",
              "      <td>0.692820</td>\n",
              "      <td>1.000</td>\n",
              "      <td>t</td>\n",
              "      <td>t</td>\n",
              "      <td>11</td>\n",
              "      <td>f</td>\n",
              "      <td>g</td>\n",
              "      <td>0.0</td>\n",
              "      <td>3000</td>\n",
              "      <td>0.0</td>\n",
              "      <td>NaN</td>\n",
              "      <td>1</td>\n",
              "      <td>yes.</td>\n",
              "    </tr>\n",
              "    <tr>\n",
              "      <th>2102</th>\n",
              "      <td>a</td>\n",
              "      <td>22.83</td>\n",
              "      <td>0.000229</td>\n",
              "      <td>u</td>\n",
              "      <td>-1.238763</td>\n",
              "      <td>0.615668</td>\n",
              "      <td>2.290</td>\n",
              "      <td>t</td>\n",
              "      <td>t</td>\n",
              "      <td>7</td>\n",
              "      <td>t</td>\n",
              "      <td>g</td>\n",
              "      <td>140.0</td>\n",
              "      <td>2384</td>\n",
              "      <td>1400000.0</td>\n",
              "      <td>t</td>\n",
              "      <td>1</td>\n",
              "      <td>yes.</td>\n",
              "    </tr>\n",
              "    <tr>\n",
              "      <th>3602</th>\n",
              "      <td>a</td>\n",
              "      <td>41.00</td>\n",
              "      <td>0.000204</td>\n",
              "      <td>y</td>\n",
              "      <td>1.122596</td>\n",
              "      <td>0.799766</td>\n",
              "      <td>0.125</td>\n",
              "      <td>t</td>\n",
              "      <td>t</td>\n",
              "      <td>23</td>\n",
              "      <td>t</td>\n",
              "      <td>g</td>\n",
              "      <td>455.0</td>\n",
              "      <td>1236</td>\n",
              "      <td>4550000.0</td>\n",
              "      <td>NaN</td>\n",
              "      <td>1</td>\n",
              "      <td>yes.</td>\n",
              "    </tr>\n",
              "  </tbody>\n",
              "</table>\n",
              "</div>"
            ],
            "text/plain": [
              "     v1     v2        v3 v4        v5  ...   v14        v15  v16 v17  classLabel\n",
              "2957  a  17.83  0.001100  u -0.010785  ...  3000        0.0  NaN   1        yes.\n",
              "2102  a  22.83  0.000229  u -1.238763  ...  2384  1400000.0    t   1        yes.\n",
              "3602  a  41.00  0.000204  y  1.122596  ...  1236  4550000.0  NaN   1        yes.\n",
              "\n",
              "[3 rows x 18 columns]"
            ]
          },
          "metadata": {
            "tags": []
          },
          "execution_count": 5
        }
      ]
    },
    {
      "cell_type": "code",
      "metadata": {
        "colab": {
          "base_uri": "https://localhost:8080/",
          "height": 142
        },
        "id": "RToEfLb1dsim",
        "outputId": "5891cb3c-a9af-4a65-dd3b-5120e3d553d1"
      },
      "source": [
        "test.sample(3)"
      ],
      "execution_count": 6,
      "outputs": [
        {
          "output_type": "execute_result",
          "data": {
            "text/html": [
              "<div>\n",
              "<style scoped>\n",
              "    .dataframe tbody tr th:only-of-type {\n",
              "        vertical-align: middle;\n",
              "    }\n",
              "\n",
              "    .dataframe tbody tr th {\n",
              "        vertical-align: top;\n",
              "    }\n",
              "\n",
              "    .dataframe thead th {\n",
              "        text-align: right;\n",
              "    }\n",
              "</style>\n",
              "<table border=\"1\" class=\"dataframe\">\n",
              "  <thead>\n",
              "    <tr style=\"text-align: right;\">\n",
              "      <th></th>\n",
              "      <th>v1</th>\n",
              "      <th>v2</th>\n",
              "      <th>v3</th>\n",
              "      <th>v4</th>\n",
              "      <th>v5</th>\n",
              "      <th>v6</th>\n",
              "      <th>v7</th>\n",
              "      <th>v8</th>\n",
              "      <th>v9</th>\n",
              "      <th>v10</th>\n",
              "      <th>v11</th>\n",
              "      <th>v12</th>\n",
              "      <th>v13</th>\n",
              "      <th>v14</th>\n",
              "      <th>v15</th>\n",
              "      <th>v16</th>\n",
              "      <th>v17</th>\n",
              "      <th>classLabel</th>\n",
              "    </tr>\n",
              "  </thead>\n",
              "  <tbody>\n",
              "    <tr>\n",
              "      <th>115</th>\n",
              "      <td>b</td>\n",
              "      <td>42.00</td>\n",
              "      <td>0.000979</td>\n",
              "      <td>u</td>\n",
              "      <td>0.748151</td>\n",
              "      <td>1.181493</td>\n",
              "      <td>7.96</td>\n",
              "      <td>t</td>\n",
              "      <td>t</td>\n",
              "      <td>8</td>\n",
              "      <td>f</td>\n",
              "      <td>g</td>\n",
              "      <td>0.0</td>\n",
              "      <td>0</td>\n",
              "      <td>0.0</td>\n",
              "      <td>t</td>\n",
              "      <td>0</td>\n",
              "      <td>yes.</td>\n",
              "    </tr>\n",
              "    <tr>\n",
              "      <th>178</th>\n",
              "      <td>b</td>\n",
              "      <td>43.00</td>\n",
              "      <td>0.000029</td>\n",
              "      <td>y</td>\n",
              "      <td>1.201602</td>\n",
              "      <td>0.789425</td>\n",
              "      <td>1.75</td>\n",
              "      <td>t</td>\n",
              "      <td>t</td>\n",
              "      <td>8</td>\n",
              "      <td>f</td>\n",
              "      <td>g</td>\n",
              "      <td>100.0</td>\n",
              "      <td>375</td>\n",
              "      <td>1000000.0</td>\n",
              "      <td>NaN</td>\n",
              "      <td>1</td>\n",
              "      <td>yes.</td>\n",
              "    </tr>\n",
              "    <tr>\n",
              "      <th>173</th>\n",
              "      <td>NaN</td>\n",
              "      <td>20.42</td>\n",
              "      <td>0.000750</td>\n",
              "      <td>u</td>\n",
              "      <td>0.525192</td>\n",
              "      <td>0.609564</td>\n",
              "      <td>1.50</td>\n",
              "      <td>t</td>\n",
              "      <td>t</td>\n",
              "      <td>1</td>\n",
              "      <td>f</td>\n",
              "      <td>g</td>\n",
              "      <td>160.0</td>\n",
              "      <td>234</td>\n",
              "      <td>1600000.0</td>\n",
              "      <td>t</td>\n",
              "      <td>0</td>\n",
              "      <td>yes.</td>\n",
              "    </tr>\n",
              "  </tbody>\n",
              "</table>\n",
              "</div>"
            ],
            "text/plain": [
              "      v1     v2        v3 v4        v5  ...  v14        v15  v16 v17  classLabel\n",
              "115    b  42.00  0.000979  u  0.748151  ...    0        0.0    t   0        yes.\n",
              "178    b  43.00  0.000029  y  1.201602  ...  375  1000000.0  NaN   1        yes.\n",
              "173  NaN  20.42  0.000750  u  0.525192  ...  234  1600000.0    t   0        yes.\n",
              "\n",
              "[3 rows x 18 columns]"
            ]
          },
          "metadata": {
            "tags": []
          },
          "execution_count": 6
        }
      ]
    },
    {
      "cell_type": "code",
      "metadata": {
        "id": "KBPt7TImkafq"
      },
      "source": [
        "train.to_csv('/content/data/train.csv')\n",
        "test.to_csv('/content/data/test.csv')"
      ],
      "execution_count": 8,
      "outputs": []
    },
    {
      "cell_type": "code",
      "metadata": {
        "id": "eHcxIeeKqGL3"
      },
      "source": [
        ""
      ],
      "execution_count": null,
      "outputs": []
    },
    {
      "cell_type": "markdown",
      "metadata": {
        "id": "30JvNMD1WAzu"
      },
      "source": [
        "\n",
        "# Extending pandas clas\n",
        "[Reference for extending pandas api](https://pandas.pydata.org/pandas-docs/stable/development/extending.html)"
      ]
    },
    {
      "cell_type": "code",
      "metadata": {
        "id": "Hzv-X4VsV-NH"
      },
      "source": [
        "@pd.api.extensions.register_dataframe_accessor(\"hlst\")\n",
        "class HighLevelStats():\n",
        "    def __init__(self, pObject):\n",
        "        self._pObject = pObject\n",
        "    \n",
        "    @property    \n",
        "    def print_stats_numeric(self):\n",
        "        return self._pObject.describe(include= np.number).transpose()\n",
        "    \n",
        "    @property    \n",
        "    def print_stats_object(self):\n",
        "        return self._pObject.describe(include= np.object).transpose()"
      ],
      "execution_count": 9,
      "outputs": []
    },
    {
      "cell_type": "code",
      "metadata": {
        "colab": {
          "base_uri": "https://localhost:8080/",
          "height": 357
        },
        "id": "G8EIwbDSjOUx",
        "outputId": "60b477cd-733b-49a1-9484-f745cc550eb6"
      },
      "source": [
        "train.hlst.print_stats_numeric"
      ],
      "execution_count": 10,
      "outputs": [
        {
          "output_type": "execute_result",
          "data": {
            "text/html": [
              "<div>\n",
              "<style scoped>\n",
              "    .dataframe tbody tr th:only-of-type {\n",
              "        vertical-align: middle;\n",
              "    }\n",
              "\n",
              "    .dataframe tbody tr th {\n",
              "        vertical-align: top;\n",
              "    }\n",
              "\n",
              "    .dataframe thead th {\n",
              "        text-align: right;\n",
              "    }\n",
              "</style>\n",
              "<table border=\"1\" class=\"dataframe\">\n",
              "  <thead>\n",
              "    <tr style=\"text-align: right;\">\n",
              "      <th></th>\n",
              "      <th>count</th>\n",
              "      <th>mean</th>\n",
              "      <th>std</th>\n",
              "      <th>min</th>\n",
              "      <th>25%</th>\n",
              "      <th>50%</th>\n",
              "      <th>75%</th>\n",
              "      <th>max</th>\n",
              "    </tr>\n",
              "  </thead>\n",
              "  <tbody>\n",
              "    <tr>\n",
              "      <th>v2</th>\n",
              "      <td>3661.0</td>\n",
              "      <td>3.282071e+01</td>\n",
              "      <td>1.266618e+01</td>\n",
              "      <td>13.750000</td>\n",
              "      <td>23.000000</td>\n",
              "      <td>2.867000e+01</td>\n",
              "      <td>4.083000e+01</td>\n",
              "      <td>8.025000e+01</td>\n",
              "    </tr>\n",
              "    <tr>\n",
              "      <th>v3</th>\n",
              "      <td>3700.0</td>\n",
              "      <td>5.847872e-04</td>\n",
              "      <td>5.402007e-04</td>\n",
              "      <td>0.000000</td>\n",
              "      <td>0.000150</td>\n",
              "      <td>4.250000e-04</td>\n",
              "      <td>9.625000e-04</td>\n",
              "      <td>2.800000e-03</td>\n",
              "    </tr>\n",
              "    <tr>\n",
              "      <th>v5</th>\n",
              "      <td>3700.0</td>\n",
              "      <td>-5.331808e-02</td>\n",
              "      <td>2.871240e+00</td>\n",
              "      <td>-4.996939</td>\n",
              "      <td>-2.516349</td>\n",
              "      <td>-5.278621e-02</td>\n",
              "      <td>2.406251e+00</td>\n",
              "      <td>4.999274e+00</td>\n",
              "    </tr>\n",
              "    <tr>\n",
              "      <th>v6</th>\n",
              "      <td>3700.0</td>\n",
              "      <td>7.841879e-01</td>\n",
              "      <td>1.365138e-01</td>\n",
              "      <td>0.273945</td>\n",
              "      <td>0.693130</td>\n",
              "      <td>7.878424e-01</td>\n",
              "      <td>8.760522e-01</td>\n",
              "      <td>1.215066e+00</td>\n",
              "    </tr>\n",
              "    <tr>\n",
              "      <th>v7</th>\n",
              "      <td>3700.0</td>\n",
              "      <td>3.439496e+00</td>\n",
              "      <td>4.335229e+00</td>\n",
              "      <td>0.000000</td>\n",
              "      <td>0.500000</td>\n",
              "      <td>1.750000e+00</td>\n",
              "      <td>5.000000e+00</td>\n",
              "      <td>2.850000e+01</td>\n",
              "    </tr>\n",
              "    <tr>\n",
              "      <th>v10</th>\n",
              "      <td>3700.0</td>\n",
              "      <td>4.160000e+00</td>\n",
              "      <td>6.750553e+00</td>\n",
              "      <td>0.000000</td>\n",
              "      <td>0.000000</td>\n",
              "      <td>2.000000e+00</td>\n",
              "      <td>6.000000e+00</td>\n",
              "      <td>6.700000e+01</td>\n",
              "    </tr>\n",
              "    <tr>\n",
              "      <th>v13</th>\n",
              "      <td>3600.0</td>\n",
              "      <td>1.626950e+02</td>\n",
              "      <td>1.560457e+02</td>\n",
              "      <td>0.000000</td>\n",
              "      <td>0.000000</td>\n",
              "      <td>1.200000e+02</td>\n",
              "      <td>2.800000e+02</td>\n",
              "      <td>1.160000e+03</td>\n",
              "    </tr>\n",
              "    <tr>\n",
              "      <th>v14</th>\n",
              "      <td>3700.0</td>\n",
              "      <td>2.246706e+03</td>\n",
              "      <td>8.708571e+03</td>\n",
              "      <td>0.000000</td>\n",
              "      <td>0.000000</td>\n",
              "      <td>1.130000e+02</td>\n",
              "      <td>1.059750e+03</td>\n",
              "      <td>1.000000e+05</td>\n",
              "    </tr>\n",
              "    <tr>\n",
              "      <th>v15</th>\n",
              "      <td>3600.0</td>\n",
              "      <td>1.626950e+06</td>\n",
              "      <td>1.560457e+06</td>\n",
              "      <td>0.000000</td>\n",
              "      <td>0.000000</td>\n",
              "      <td>1.200000e+06</td>\n",
              "      <td>2.800000e+06</td>\n",
              "      <td>1.160000e+07</td>\n",
              "    </tr>\n",
              "    <tr>\n",
              "      <th>v17</th>\n",
              "      <td>3700.0</td>\n",
              "      <td>9.254054e-01</td>\n",
              "      <td>2.627716e-01</td>\n",
              "      <td>0.000000</td>\n",
              "      <td>1.000000</td>\n",
              "      <td>1.000000e+00</td>\n",
              "      <td>1.000000e+00</td>\n",
              "      <td>1.000000e+00</td>\n",
              "    </tr>\n",
              "  </tbody>\n",
              "</table>\n",
              "</div>"
            ],
            "text/plain": [
              "      count          mean  ...           75%           max\n",
              "v2   3661.0  3.282071e+01  ...  4.083000e+01  8.025000e+01\n",
              "v3   3700.0  5.847872e-04  ...  9.625000e-04  2.800000e-03\n",
              "v5   3700.0 -5.331808e-02  ...  2.406251e+00  4.999274e+00\n",
              "v6   3700.0  7.841879e-01  ...  8.760522e-01  1.215066e+00\n",
              "v7   3700.0  3.439496e+00  ...  5.000000e+00  2.850000e+01\n",
              "v10  3700.0  4.160000e+00  ...  6.000000e+00  6.700000e+01\n",
              "v13  3600.0  1.626950e+02  ...  2.800000e+02  1.160000e+03\n",
              "v14  3700.0  2.246706e+03  ...  1.059750e+03  1.000000e+05\n",
              "v15  3600.0  1.626950e+06  ...  2.800000e+06  1.160000e+07\n",
              "v17  3700.0  9.254054e-01  ...  1.000000e+00  1.000000e+00\n",
              "\n",
              "[10 rows x 8 columns]"
            ]
          },
          "metadata": {
            "tags": []
          },
          "execution_count": 10
        }
      ]
    },
    {
      "cell_type": "code",
      "metadata": {
        "colab": {
          "base_uri": "https://localhost:8080/",
          "height": 295
        },
        "id": "Im3SbuW9jPkH",
        "outputId": "4ae34d11-11f0-4922-fcbc-e4e78049639d"
      },
      "source": [
        "train.hlst.print_stats_object"
      ],
      "execution_count": 11,
      "outputs": [
        {
          "output_type": "execute_result",
          "data": {
            "text/html": [
              "<div>\n",
              "<style scoped>\n",
              "    .dataframe tbody tr th:only-of-type {\n",
              "        vertical-align: middle;\n",
              "    }\n",
              "\n",
              "    .dataframe tbody tr th {\n",
              "        vertical-align: top;\n",
              "    }\n",
              "\n",
              "    .dataframe thead th {\n",
              "        text-align: right;\n",
              "    }\n",
              "</style>\n",
              "<table border=\"1\" class=\"dataframe\">\n",
              "  <thead>\n",
              "    <tr style=\"text-align: right;\">\n",
              "      <th></th>\n",
              "      <th>count</th>\n",
              "      <th>unique</th>\n",
              "      <th>top</th>\n",
              "      <th>freq</th>\n",
              "    </tr>\n",
              "  </thead>\n",
              "  <tbody>\n",
              "    <tr>\n",
              "      <th>v1</th>\n",
              "      <td>3661</td>\n",
              "      <td>2</td>\n",
              "      <td>b</td>\n",
              "      <td>2382</td>\n",
              "    </tr>\n",
              "    <tr>\n",
              "      <th>v4</th>\n",
              "      <td>3636</td>\n",
              "      <td>3</td>\n",
              "      <td>u</td>\n",
              "      <td>3055</td>\n",
              "    </tr>\n",
              "    <tr>\n",
              "      <th>v8</th>\n",
              "      <td>3700</td>\n",
              "      <td>2</td>\n",
              "      <td>t</td>\n",
              "      <td>3171</td>\n",
              "    </tr>\n",
              "    <tr>\n",
              "      <th>v9</th>\n",
              "      <td>3700</td>\n",
              "      <td>2</td>\n",
              "      <td>t</td>\n",
              "      <td>2239</td>\n",
              "    </tr>\n",
              "    <tr>\n",
              "      <th>v11</th>\n",
              "      <td>3700</td>\n",
              "      <td>2</td>\n",
              "      <td>f</td>\n",
              "      <td>1924</td>\n",
              "    </tr>\n",
              "    <tr>\n",
              "      <th>v12</th>\n",
              "      <td>3700</td>\n",
              "      <td>3</td>\n",
              "      <td>g</td>\n",
              "      <td>3430</td>\n",
              "    </tr>\n",
              "    <tr>\n",
              "      <th>v16</th>\n",
              "      <td>1555</td>\n",
              "      <td>2</td>\n",
              "      <td>t</td>\n",
              "      <td>1023</td>\n",
              "    </tr>\n",
              "    <tr>\n",
              "      <th>classLabel</th>\n",
              "      <td>3700</td>\n",
              "      <td>2</td>\n",
              "      <td>yes.</td>\n",
              "      <td>3424</td>\n",
              "    </tr>\n",
              "  </tbody>\n",
              "</table>\n",
              "</div>"
            ],
            "text/plain": [
              "           count unique   top  freq\n",
              "v1          3661      2     b  2382\n",
              "v4          3636      3     u  3055\n",
              "v8          3700      2     t  3171\n",
              "v9          3700      2     t  2239\n",
              "v11         3700      2     f  1924\n",
              "v12         3700      3     g  3430\n",
              "v16         1555      2     t  1023\n",
              "classLabel  3700      2  yes.  3424"
            ]
          },
          "metadata": {
            "tags": []
          },
          "execution_count": 11
        }
      ]
    },
    {
      "cell_type": "code",
      "metadata": {
        "id": "qz0ARYWFiT-1"
      },
      "source": [
        "class HLS(pd.DataFrame): \n",
        "    @property    \n",
        "    def print_stats_numeric(self):\n",
        "        return self.describe(include= np.number).transpose()\n",
        "    \n",
        "    @property    \n",
        "    def print_stats_object(self):\n",
        "        return self.describe(include= np.object).transpose()"
      ],
      "execution_count": 12,
      "outputs": []
    },
    {
      "cell_type": "code",
      "metadata": {
        "id": "KhRCYHQaigjB"
      },
      "source": [
        "tt = HLS(train)"
      ],
      "execution_count": 13,
      "outputs": []
    },
    {
      "cell_type": "code",
      "metadata": {
        "colab": {
          "base_uri": "https://localhost:8080/",
          "height": 357
        },
        "id": "7p-k0Snki4HO",
        "outputId": "d3de0f5f-32bb-4045-bd0f-e9b446465118"
      },
      "source": [
        "tt.print_stats_numeric"
      ],
      "execution_count": 14,
      "outputs": [
        {
          "output_type": "execute_result",
          "data": {
            "text/html": [
              "<div>\n",
              "<style scoped>\n",
              "    .dataframe tbody tr th:only-of-type {\n",
              "        vertical-align: middle;\n",
              "    }\n",
              "\n",
              "    .dataframe tbody tr th {\n",
              "        vertical-align: top;\n",
              "    }\n",
              "\n",
              "    .dataframe thead th {\n",
              "        text-align: right;\n",
              "    }\n",
              "</style>\n",
              "<table border=\"1\" class=\"dataframe\">\n",
              "  <thead>\n",
              "    <tr style=\"text-align: right;\">\n",
              "      <th></th>\n",
              "      <th>count</th>\n",
              "      <th>mean</th>\n",
              "      <th>std</th>\n",
              "      <th>min</th>\n",
              "      <th>25%</th>\n",
              "      <th>50%</th>\n",
              "      <th>75%</th>\n",
              "      <th>max</th>\n",
              "    </tr>\n",
              "  </thead>\n",
              "  <tbody>\n",
              "    <tr>\n",
              "      <th>v2</th>\n",
              "      <td>3661.0</td>\n",
              "      <td>3.282071e+01</td>\n",
              "      <td>1.266618e+01</td>\n",
              "      <td>13.750000</td>\n",
              "      <td>23.000000</td>\n",
              "      <td>2.867000e+01</td>\n",
              "      <td>4.083000e+01</td>\n",
              "      <td>8.025000e+01</td>\n",
              "    </tr>\n",
              "    <tr>\n",
              "      <th>v3</th>\n",
              "      <td>3700.0</td>\n",
              "      <td>5.847872e-04</td>\n",
              "      <td>5.402007e-04</td>\n",
              "      <td>0.000000</td>\n",
              "      <td>0.000150</td>\n",
              "      <td>4.250000e-04</td>\n",
              "      <td>9.625000e-04</td>\n",
              "      <td>2.800000e-03</td>\n",
              "    </tr>\n",
              "    <tr>\n",
              "      <th>v5</th>\n",
              "      <td>3700.0</td>\n",
              "      <td>-5.331808e-02</td>\n",
              "      <td>2.871240e+00</td>\n",
              "      <td>-4.996939</td>\n",
              "      <td>-2.516349</td>\n",
              "      <td>-5.278621e-02</td>\n",
              "      <td>2.406251e+00</td>\n",
              "      <td>4.999274e+00</td>\n",
              "    </tr>\n",
              "    <tr>\n",
              "      <th>v6</th>\n",
              "      <td>3700.0</td>\n",
              "      <td>7.841879e-01</td>\n",
              "      <td>1.365138e-01</td>\n",
              "      <td>0.273945</td>\n",
              "      <td>0.693130</td>\n",
              "      <td>7.878424e-01</td>\n",
              "      <td>8.760522e-01</td>\n",
              "      <td>1.215066e+00</td>\n",
              "    </tr>\n",
              "    <tr>\n",
              "      <th>v7</th>\n",
              "      <td>3700.0</td>\n",
              "      <td>3.439496e+00</td>\n",
              "      <td>4.335229e+00</td>\n",
              "      <td>0.000000</td>\n",
              "      <td>0.500000</td>\n",
              "      <td>1.750000e+00</td>\n",
              "      <td>5.000000e+00</td>\n",
              "      <td>2.850000e+01</td>\n",
              "    </tr>\n",
              "    <tr>\n",
              "      <th>v10</th>\n",
              "      <td>3700.0</td>\n",
              "      <td>4.160000e+00</td>\n",
              "      <td>6.750553e+00</td>\n",
              "      <td>0.000000</td>\n",
              "      <td>0.000000</td>\n",
              "      <td>2.000000e+00</td>\n",
              "      <td>6.000000e+00</td>\n",
              "      <td>6.700000e+01</td>\n",
              "    </tr>\n",
              "    <tr>\n",
              "      <th>v13</th>\n",
              "      <td>3600.0</td>\n",
              "      <td>1.626950e+02</td>\n",
              "      <td>1.560457e+02</td>\n",
              "      <td>0.000000</td>\n",
              "      <td>0.000000</td>\n",
              "      <td>1.200000e+02</td>\n",
              "      <td>2.800000e+02</td>\n",
              "      <td>1.160000e+03</td>\n",
              "    </tr>\n",
              "    <tr>\n",
              "      <th>v14</th>\n",
              "      <td>3700.0</td>\n",
              "      <td>2.246706e+03</td>\n",
              "      <td>8.708571e+03</td>\n",
              "      <td>0.000000</td>\n",
              "      <td>0.000000</td>\n",
              "      <td>1.130000e+02</td>\n",
              "      <td>1.059750e+03</td>\n",
              "      <td>1.000000e+05</td>\n",
              "    </tr>\n",
              "    <tr>\n",
              "      <th>v15</th>\n",
              "      <td>3600.0</td>\n",
              "      <td>1.626950e+06</td>\n",
              "      <td>1.560457e+06</td>\n",
              "      <td>0.000000</td>\n",
              "      <td>0.000000</td>\n",
              "      <td>1.200000e+06</td>\n",
              "      <td>2.800000e+06</td>\n",
              "      <td>1.160000e+07</td>\n",
              "    </tr>\n",
              "    <tr>\n",
              "      <th>v17</th>\n",
              "      <td>3700.0</td>\n",
              "      <td>9.254054e-01</td>\n",
              "      <td>2.627716e-01</td>\n",
              "      <td>0.000000</td>\n",
              "      <td>1.000000</td>\n",
              "      <td>1.000000e+00</td>\n",
              "      <td>1.000000e+00</td>\n",
              "      <td>1.000000e+00</td>\n",
              "    </tr>\n",
              "  </tbody>\n",
              "</table>\n",
              "</div>"
            ],
            "text/plain": [
              "      count          mean  ...           75%           max\n",
              "v2   3661.0  3.282071e+01  ...  4.083000e+01  8.025000e+01\n",
              "v3   3700.0  5.847872e-04  ...  9.625000e-04  2.800000e-03\n",
              "v5   3700.0 -5.331808e-02  ...  2.406251e+00  4.999274e+00\n",
              "v6   3700.0  7.841879e-01  ...  8.760522e-01  1.215066e+00\n",
              "v7   3700.0  3.439496e+00  ...  5.000000e+00  2.850000e+01\n",
              "v10  3700.0  4.160000e+00  ...  6.000000e+00  6.700000e+01\n",
              "v13  3600.0  1.626950e+02  ...  2.800000e+02  1.160000e+03\n",
              "v14  3700.0  2.246706e+03  ...  1.059750e+03  1.000000e+05\n",
              "v15  3600.0  1.626950e+06  ...  2.800000e+06  1.160000e+07\n",
              "v17  3700.0  9.254054e-01  ...  1.000000e+00  1.000000e+00\n",
              "\n",
              "[10 rows x 8 columns]"
            ]
          },
          "metadata": {
            "tags": []
          },
          "execution_count": 14
        }
      ]
    },
    {
      "cell_type": "code",
      "metadata": {
        "colab": {
          "base_uri": "https://localhost:8080/",
          "height": 295
        },
        "id": "m4gwjmMJjTsO",
        "outputId": "61e0c29c-b0ea-4015-e50c-96e4f3b02357"
      },
      "source": [
        "tt.print_stats_object"
      ],
      "execution_count": 15,
      "outputs": [
        {
          "output_type": "execute_result",
          "data": {
            "text/html": [
              "<div>\n",
              "<style scoped>\n",
              "    .dataframe tbody tr th:only-of-type {\n",
              "        vertical-align: middle;\n",
              "    }\n",
              "\n",
              "    .dataframe tbody tr th {\n",
              "        vertical-align: top;\n",
              "    }\n",
              "\n",
              "    .dataframe thead th {\n",
              "        text-align: right;\n",
              "    }\n",
              "</style>\n",
              "<table border=\"1\" class=\"dataframe\">\n",
              "  <thead>\n",
              "    <tr style=\"text-align: right;\">\n",
              "      <th></th>\n",
              "      <th>count</th>\n",
              "      <th>unique</th>\n",
              "      <th>top</th>\n",
              "      <th>freq</th>\n",
              "    </tr>\n",
              "  </thead>\n",
              "  <tbody>\n",
              "    <tr>\n",
              "      <th>v1</th>\n",
              "      <td>3661</td>\n",
              "      <td>2</td>\n",
              "      <td>b</td>\n",
              "      <td>2382</td>\n",
              "    </tr>\n",
              "    <tr>\n",
              "      <th>v4</th>\n",
              "      <td>3636</td>\n",
              "      <td>3</td>\n",
              "      <td>u</td>\n",
              "      <td>3055</td>\n",
              "    </tr>\n",
              "    <tr>\n",
              "      <th>v8</th>\n",
              "      <td>3700</td>\n",
              "      <td>2</td>\n",
              "      <td>t</td>\n",
              "      <td>3171</td>\n",
              "    </tr>\n",
              "    <tr>\n",
              "      <th>v9</th>\n",
              "      <td>3700</td>\n",
              "      <td>2</td>\n",
              "      <td>t</td>\n",
              "      <td>2239</td>\n",
              "    </tr>\n",
              "    <tr>\n",
              "      <th>v11</th>\n",
              "      <td>3700</td>\n",
              "      <td>2</td>\n",
              "      <td>f</td>\n",
              "      <td>1924</td>\n",
              "    </tr>\n",
              "    <tr>\n",
              "      <th>v12</th>\n",
              "      <td>3700</td>\n",
              "      <td>3</td>\n",
              "      <td>g</td>\n",
              "      <td>3430</td>\n",
              "    </tr>\n",
              "    <tr>\n",
              "      <th>v16</th>\n",
              "      <td>1555</td>\n",
              "      <td>2</td>\n",
              "      <td>t</td>\n",
              "      <td>1023</td>\n",
              "    </tr>\n",
              "    <tr>\n",
              "      <th>classLabel</th>\n",
              "      <td>3700</td>\n",
              "      <td>2</td>\n",
              "      <td>yes.</td>\n",
              "      <td>3424</td>\n",
              "    </tr>\n",
              "  </tbody>\n",
              "</table>\n",
              "</div>"
            ],
            "text/plain": [
              "           count unique   top  freq\n",
              "v1          3661      2     b  2382\n",
              "v4          3636      3     u  3055\n",
              "v8          3700      2     t  3171\n",
              "v9          3700      2     t  2239\n",
              "v11         3700      2     f  1924\n",
              "v12         3700      3     g  3430\n",
              "v16         1555      2     t  1023\n",
              "classLabel  3700      2  yes.  3424"
            ]
          },
          "metadata": {
            "tags": []
          },
          "execution_count": 15
        }
      ]
    },
    {
      "cell_type": "markdown",
      "metadata": {
        "id": "B_aAVfLJWtU9"
      },
      "source": [
        "# Tensorflow StatGen maybe better"
      ]
    },
    {
      "cell_type": "code",
      "metadata": {
        "colab": {
          "base_uri": "https://localhost:8080/"
        },
        "id": "RUIKZYvdZAFw",
        "outputId": "e07339de-692d-45d4-dfd2-ba146dbce2cf"
      },
      "source": [
        "!mkdir '/content/pipeline/'\n",
        "!mkdir '/content/data/'"
      ],
      "execution_count": 17,
      "outputs": [
        {
          "output_type": "stream",
          "text": [
            "mkdir: cannot create directory ‘/content/data/’: File exists\n"
          ],
          "name": "stdout"
        }
      ]
    },
    {
      "cell_type": "code",
      "metadata": {
        "colab": {
          "base_uri": "https://localhost:8080/",
          "height": 35
        },
        "id": "2aS1PHVMd240",
        "outputId": "3c4cd282-51e6-4efd-b243-7a52a129c844"
      },
      "source": [
        "_data_root"
      ],
      "execution_count": 19,
      "outputs": [
        {
          "output_type": "execute_result",
          "data": {
            "application/vnd.google.colaboratory.intrinsic+json": {
              "type": "string"
            },
            "text/plain": [
              "'/content/data/'"
            ]
          },
          "metadata": {
            "tags": []
          },
          "execution_count": 19
        }
      ]
    },
    {
      "cell_type": "markdown",
      "metadata": {
        "id": "wB0cF3SzbfgZ"
      },
      "source": [
        "## Install TfDV, might take upto 5 minutes"
      ]
    },
    {
      "cell_type": "code",
      "metadata": {
        "id": "uTLxggtGawn8"
      },
      "source": [
        "import tensorflow_data_validation as tfdv"
      ],
      "execution_count": 34,
      "outputs": []
    },
    {
      "cell_type": "code",
      "metadata": {
        "colab": {
          "base_uri": "https://localhost:8080/",
          "height": 54
        },
        "id": "MXsas27umefz",
        "outputId": "d85538b0-315b-434b-b82e-ab226d088b05"
      },
      "source": [
        "train_stats = tfdv.generate_statistics_from_csv(data_location='/content/data/train.csv')\n",
        "tfdv.visualize_statistics(train_stats)"
      ],
      "execution_count": 40,
      "outputs": [
        {
          "output_type": "display_data",
          "data": {
            "text/html": [
              "<iframe id='facets-iframe' width=\"100%\" height=\"500px\"></iframe>\n",
              "        <script>\n",
              "        facets_iframe = document.getElementById('facets-iframe');\n",
              "        facets_html = '<script src=\"https://cdnjs.cloudflare.com/ajax/libs/webcomponentsjs/1.3.3/webcomponents-lite.js\"><\\/script><link rel=\"import\" href=\"https://raw.githubusercontent.com/PAIR-code/facets/master/facets-dist/facets-jupyter.html\"><facets-overview proto-input=\"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\"></facets-overview>';\n",
              "        facets_iframe.srcdoc = facets_html;\n",
              "         facets_iframe.id = \"\";\n",
              "         setTimeout(() => {\n",
              "           facets_iframe.setAttribute('height', facets_iframe.contentWindow.document.body.offsetHeight + 'px')\n",
              "         }, 1500)\n",
              "         </script>"
            ],
            "text/plain": [
              "<IPython.core.display.HTML object>"
            ]
          },
          "metadata": {
            "tags": []
          }
        }
      ]
    },
    {
      "cell_type": "code",
      "metadata": {
        "id": "zHWhvdgZpGLy"
      },
      "source": [
        ""
      ],
      "execution_count": null,
      "outputs": []
    }
  ]
}