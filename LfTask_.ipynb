{
  "nbformat": 4,
  "nbformat_minor": 0,
  "metadata": {
    "colab": {
      "name": "LfTask_.ipynb",
      "provenance": [],
      "collapsed_sections": [],
      "authorship_tag": "ABX9TyPQvSuUbcfyGbQBiGV1iEbU",
      "include_colab_link": true
    },
    "kernelspec": {
      "name": "python3",
      "display_name": "Python 3"
    },
    "language_info": {
      "name": "python"
    }
  },
  "cells": [
    {
      "cell_type": "markdown",
      "metadata": {
        "id": "view-in-github",
        "colab_type": "text"
      },
      "source": [
        "<a href=\"https://colab.research.google.com/github/vsnupoudel/Flask/blob/final/LfTask_.ipynb\" target=\"_parent\"><img src=\"https://colab.research.google.com/assets/colab-badge.svg\" alt=\"Open In Colab\"/></a>"
      ]
    },
    {
      "cell_type": "code",
      "metadata": {
        "id": "1S1kIlmVVhs9"
      },
      "source": [
        "import numpy as np\n",
        "import pandas as pd\n",
        "import random"
      ],
      "execution_count": 3,
      "outputs": []
    },
    {
      "cell_type": "code",
      "metadata": {
        "colab": {
          "base_uri": "https://localhost:8080/"
        },
        "id": "bepnKTwIkGrj",
        "outputId": "69e12f85-c3fb-4d30-c088-0bdade4cd40d"
      },
      "source": [
        "!mkdir '/content/data/'"
      ],
      "execution_count": 4,
      "outputs": [
        {
          "output_type": "stream",
          "text": [
            "mkdir: cannot create directory ‘/content/data/’: File exists\n"
          ],
          "name": "stdout"
        }
      ]
    },
    {
      "cell_type": "code",
      "metadata": {
        "colab": {
          "base_uri": "https://localhost:8080/",
          "height": 142
        },
        "id": "zzfrNKZFVnTg",
        "outputId": "a6c00d0c-1aee-482d-aea6-bc63f811273f"
      },
      "source": [
        "train= pd.read_csv('/content/data/training.csv', delimiter=';', decimal=',')\n",
        "test= pd.read_csv('/content/data/validation.csv', delimiter=';', decimal=',')\n",
        "# random.seed(12)\n",
        "train.sample(3)"
      ],
      "execution_count": 5,
      "outputs": [
        {
          "output_type": "execute_result",
          "data": {
            "text/html": [
              "<div>\n",
              "<style scoped>\n",
              "    .dataframe tbody tr th:only-of-type {\n",
              "        vertical-align: middle;\n",
              "    }\n",
              "\n",
              "    .dataframe tbody tr th {\n",
              "        vertical-align: top;\n",
              "    }\n",
              "\n",
              "    .dataframe thead th {\n",
              "        text-align: right;\n",
              "    }\n",
              "</style>\n",
              "<table border=\"1\" class=\"dataframe\">\n",
              "  <thead>\n",
              "    <tr style=\"text-align: right;\">\n",
              "      <th></th>\n",
              "      <th>v1</th>\n",
              "      <th>v2</th>\n",
              "      <th>v3</th>\n",
              "      <th>v4</th>\n",
              "      <th>v5</th>\n",
              "      <th>v6</th>\n",
              "      <th>v7</th>\n",
              "      <th>v8</th>\n",
              "      <th>v9</th>\n",
              "      <th>v10</th>\n",
              "      <th>v11</th>\n",
              "      <th>v12</th>\n",
              "      <th>v13</th>\n",
              "      <th>v14</th>\n",
              "      <th>v15</th>\n",
              "      <th>v16</th>\n",
              "      <th>v17</th>\n",
              "      <th>classLabel</th>\n",
              "    </tr>\n",
              "  </thead>\n",
              "  <tbody>\n",
              "    <tr>\n",
              "      <th>2957</th>\n",
              "      <td>a</td>\n",
              "      <td>17.83</td>\n",
              "      <td>0.001100</td>\n",
              "      <td>u</td>\n",
              "      <td>-0.010785</td>\n",
              "      <td>0.692820</td>\n",
              "      <td>1.000</td>\n",
              "      <td>t</td>\n",
              "      <td>t</td>\n",
              "      <td>11</td>\n",
              "      <td>f</td>\n",
              "      <td>g</td>\n",
              "      <td>0.0</td>\n",
              "      <td>3000</td>\n",
              "      <td>0.0</td>\n",
              "      <td>NaN</td>\n",
              "      <td>1</td>\n",
              "      <td>yes.</td>\n",
              "    </tr>\n",
              "    <tr>\n",
              "      <th>2102</th>\n",
              "      <td>a</td>\n",
              "      <td>22.83</td>\n",
              "      <td>0.000229</td>\n",
              "      <td>u</td>\n",
              "      <td>-1.238763</td>\n",
              "      <td>0.615668</td>\n",
              "      <td>2.290</td>\n",
              "      <td>t</td>\n",
              "      <td>t</td>\n",
              "      <td>7</td>\n",
              "      <td>t</td>\n",
              "      <td>g</td>\n",
              "      <td>140.0</td>\n",
              "      <td>2384</td>\n",
              "      <td>1400000.0</td>\n",
              "      <td>t</td>\n",
              "      <td>1</td>\n",
              "      <td>yes.</td>\n",
              "    </tr>\n",
              "    <tr>\n",
              "      <th>3602</th>\n",
              "      <td>a</td>\n",
              "      <td>41.00</td>\n",
              "      <td>0.000204</td>\n",
              "      <td>y</td>\n",
              "      <td>1.122596</td>\n",
              "      <td>0.799766</td>\n",
              "      <td>0.125</td>\n",
              "      <td>t</td>\n",
              "      <td>t</td>\n",
              "      <td>23</td>\n",
              "      <td>t</td>\n",
              "      <td>g</td>\n",
              "      <td>455.0</td>\n",
              "      <td>1236</td>\n",
              "      <td>4550000.0</td>\n",
              "      <td>NaN</td>\n",
              "      <td>1</td>\n",
              "      <td>yes.</td>\n",
              "    </tr>\n",
              "  </tbody>\n",
              "</table>\n",
              "</div>"
            ],
            "text/plain": [
              "     v1     v2        v3 v4        v5  ...   v14        v15  v16 v17  classLabel\n",
              "2957  a  17.83  0.001100  u -0.010785  ...  3000        0.0  NaN   1        yes.\n",
              "2102  a  22.83  0.000229  u -1.238763  ...  2384  1400000.0    t   1        yes.\n",
              "3602  a  41.00  0.000204  y  1.122596  ...  1236  4550000.0  NaN   1        yes.\n",
              "\n",
              "[3 rows x 18 columns]"
            ]
          },
          "metadata": {
            "tags": []
          },
          "execution_count": 5
        }
      ]
    },
    {
      "cell_type": "code",
      "metadata": {
        "colab": {
          "base_uri": "https://localhost:8080/",
          "height": 142
        },
        "id": "RToEfLb1dsim",
        "outputId": "5891cb3c-a9af-4a65-dd3b-5120e3d553d1"
      },
      "source": [
        "test.sample(3)"
      ],
      "execution_count": 6,
      "outputs": [
        {
          "output_type": "execute_result",
          "data": {
            "text/html": [
              "<div>\n",
              "<style scoped>\n",
              "    .dataframe tbody tr th:only-of-type {\n",
              "        vertical-align: middle;\n",
              "    }\n",
              "\n",
              "    .dataframe tbody tr th {\n",
              "        vertical-align: top;\n",
              "    }\n",
              "\n",
              "    .dataframe thead th {\n",
              "        text-align: right;\n",
              "    }\n",
              "</style>\n",
              "<table border=\"1\" class=\"dataframe\">\n",
              "  <thead>\n",
              "    <tr style=\"text-align: right;\">\n",
              "      <th></th>\n",
              "      <th>v1</th>\n",
              "      <th>v2</th>\n",
              "      <th>v3</th>\n",
              "      <th>v4</th>\n",
              "      <th>v5</th>\n",
              "      <th>v6</th>\n",
              "      <th>v7</th>\n",
              "      <th>v8</th>\n",
              "      <th>v9</th>\n",
              "      <th>v10</th>\n",
              "      <th>v11</th>\n",
              "      <th>v12</th>\n",
              "      <th>v13</th>\n",
              "      <th>v14</th>\n",
              "      <th>v15</th>\n",
              "      <th>v16</th>\n",
              "      <th>v17</th>\n",
              "      <th>classLabel</th>\n",
              "    </tr>\n",
              "  </thead>\n",
              "  <tbody>\n",
              "    <tr>\n",
              "      <th>115</th>\n",
              "      <td>b</td>\n",
              "      <td>42.00</td>\n",
              "      <td>0.000979</td>\n",
              "      <td>u</td>\n",
              "      <td>0.748151</td>\n",
              "      <td>1.181493</td>\n",
              "      <td>7.96</td>\n",
              "      <td>t</td>\n",
              "      <td>t</td>\n",
              "      <td>8</td>\n",
              "      <td>f</td>\n",
              "      <td>g</td>\n",
              "      <td>0.0</td>\n",
              "      <td>0</td>\n",
              "      <td>0.0</td>\n",
              "      <td>t</td>\n",
              "      <td>0</td>\n",
              "      <td>yes.</td>\n",
              "    </tr>\n",
              "    <tr>\n",
              "      <th>178</th>\n",
              "      <td>b</td>\n",
              "      <td>43.00</td>\n",
              "      <td>0.000029</td>\n",
              "      <td>y</td>\n",
              "      <td>1.201602</td>\n",
              "      <td>0.789425</td>\n",
              "      <td>1.75</td>\n",
              "      <td>t</td>\n",
              "      <td>t</td>\n",
              "      <td>8</td>\n",
              "      <td>f</td>\n",
              "      <td>g</td>\n",
              "      <td>100.0</td>\n",
              "      <td>375</td>\n",
              "      <td>1000000.0</td>\n",
              "      <td>NaN</td>\n",
              "      <td>1</td>\n",
              "      <td>yes.</td>\n",
              "    </tr>\n",
              "    <tr>\n",
              "      <th>173</th>\n",
              "      <td>NaN</td>\n",
              "      <td>20.42</td>\n",
              "      <td>0.000750</td>\n",
              "      <td>u</td>\n",
              "      <td>0.525192</td>\n",
              "      <td>0.609564</td>\n",
              "      <td>1.50</td>\n",
              "      <td>t</td>\n",
              "      <td>t</td>\n",
              "      <td>1</td>\n",
              "      <td>f</td>\n",
              "      <td>g</td>\n",
              "      <td>160.0</td>\n",
              "      <td>234</td>\n",
              "      <td>1600000.0</td>\n",
              "      <td>t</td>\n",
              "      <td>0</td>\n",
              "      <td>yes.</td>\n",
              "    </tr>\n",
              "  </tbody>\n",
              "</table>\n",
              "</div>"
            ],
            "text/plain": [
              "      v1     v2        v3 v4        v5  ...  v14        v15  v16 v17  classLabel\n",
              "115    b  42.00  0.000979  u  0.748151  ...    0        0.0    t   0        yes.\n",
              "178    b  43.00  0.000029  y  1.201602  ...  375  1000000.0  NaN   1        yes.\n",
              "173  NaN  20.42  0.000750  u  0.525192  ...  234  1600000.0    t   0        yes.\n",
              "\n",
              "[3 rows x 18 columns]"
            ]
          },
          "metadata": {
            "tags": []
          },
          "execution_count": 6
        }
      ]
    },
    {
      "cell_type": "code",
      "metadata": {
        "id": "KBPt7TImkafq"
      },
      "source": [
        "train.to_csv('/content/data/train.csv')\n",
        "test.to_csv('/content/data/test.csv')"
      ],
      "execution_count": 8,
      "outputs": []
    },
    {
      "cell_type": "markdown",
      "metadata": {
        "id": "30JvNMD1WAzu"
      },
      "source": [
        "\n",
        "# Extending pandas dataframe\n",
        "[Reference for extending pandas api](https://pandas.pydata.org/pandas-docs/stable/development/extending.html)"
      ]
    },
    {
      "cell_type": "code",
      "metadata": {
        "id": "qz0ARYWFiT-1"
      },
      "source": [
        "class HLS(pd.DataFrame): \n",
        "    @property    \n",
        "    def print_stats_numeric(self):\n",
        "        return self.describe(include= np.number).transpose()\n",
        "    \n",
        "    @property    \n",
        "    def print_stats_object(self):\n",
        "        return self.describe(include= np.object).transpose()"
      ],
      "execution_count": 47,
      "outputs": []
    },
    {
      "cell_type": "code",
      "metadata": {
        "id": "KhRCYHQaigjB"
      },
      "source": [
        "tt = HLS(train)"
      ],
      "execution_count": 48,
      "outputs": []
    },
    {
      "cell_type": "code",
      "metadata": {
        "colab": {
          "base_uri": "https://localhost:8080/",
          "height": 357
        },
        "id": "7p-k0Snki4HO",
        "outputId": "4b2b5b0c-7a34-490f-b0e6-b41d077923f7"
      },
      "source": [
        "tt.print_stats_numeric"
      ],
      "execution_count": 49,
      "outputs": [
        {
          "output_type": "execute_result",
          "data": {
            "text/html": [
              "<div>\n",
              "<style scoped>\n",
              "    .dataframe tbody tr th:only-of-type {\n",
              "        vertical-align: middle;\n",
              "    }\n",
              "\n",
              "    .dataframe tbody tr th {\n",
              "        vertical-align: top;\n",
              "    }\n",
              "\n",
              "    .dataframe thead th {\n",
              "        text-align: right;\n",
              "    }\n",
              "</style>\n",
              "<table border=\"1\" class=\"dataframe\">\n",
              "  <thead>\n",
              "    <tr style=\"text-align: right;\">\n",
              "      <th></th>\n",
              "      <th>count</th>\n",
              "      <th>mean</th>\n",
              "      <th>std</th>\n",
              "      <th>min</th>\n",
              "      <th>25%</th>\n",
              "      <th>50%</th>\n",
              "      <th>75%</th>\n",
              "      <th>max</th>\n",
              "    </tr>\n",
              "  </thead>\n",
              "  <tbody>\n",
              "    <tr>\n",
              "      <th>v2</th>\n",
              "      <td>3661.0</td>\n",
              "      <td>3.282071e+01</td>\n",
              "      <td>1.266618e+01</td>\n",
              "      <td>13.750000</td>\n",
              "      <td>23.000000</td>\n",
              "      <td>2.867000e+01</td>\n",
              "      <td>4.083000e+01</td>\n",
              "      <td>8.025000e+01</td>\n",
              "    </tr>\n",
              "    <tr>\n",
              "      <th>v3</th>\n",
              "      <td>3700.0</td>\n",
              "      <td>5.847872e-04</td>\n",
              "      <td>5.402007e-04</td>\n",
              "      <td>0.000000</td>\n",
              "      <td>0.000150</td>\n",
              "      <td>4.250000e-04</td>\n",
              "      <td>9.625000e-04</td>\n",
              "      <td>2.800000e-03</td>\n",
              "    </tr>\n",
              "    <tr>\n",
              "      <th>v5</th>\n",
              "      <td>3700.0</td>\n",
              "      <td>-5.331808e-02</td>\n",
              "      <td>2.871240e+00</td>\n",
              "      <td>-4.996939</td>\n",
              "      <td>-2.516349</td>\n",
              "      <td>-5.278621e-02</td>\n",
              "      <td>2.406251e+00</td>\n",
              "      <td>4.999274e+00</td>\n",
              "    </tr>\n",
              "    <tr>\n",
              "      <th>v6</th>\n",
              "      <td>3700.0</td>\n",
              "      <td>7.841879e-01</td>\n",
              "      <td>1.365138e-01</td>\n",
              "      <td>0.273945</td>\n",
              "      <td>0.693130</td>\n",
              "      <td>7.878424e-01</td>\n",
              "      <td>8.760522e-01</td>\n",
              "      <td>1.215066e+00</td>\n",
              "    </tr>\n",
              "    <tr>\n",
              "      <th>v7</th>\n",
              "      <td>3700.0</td>\n",
              "      <td>3.439496e+00</td>\n",
              "      <td>4.335229e+00</td>\n",
              "      <td>0.000000</td>\n",
              "      <td>0.500000</td>\n",
              "      <td>1.750000e+00</td>\n",
              "      <td>5.000000e+00</td>\n",
              "      <td>2.850000e+01</td>\n",
              "    </tr>\n",
              "    <tr>\n",
              "      <th>v10</th>\n",
              "      <td>3700.0</td>\n",
              "      <td>4.160000e+00</td>\n",
              "      <td>6.750553e+00</td>\n",
              "      <td>0.000000</td>\n",
              "      <td>0.000000</td>\n",
              "      <td>2.000000e+00</td>\n",
              "      <td>6.000000e+00</td>\n",
              "      <td>6.700000e+01</td>\n",
              "    </tr>\n",
              "    <tr>\n",
              "      <th>v13</th>\n",
              "      <td>3600.0</td>\n",
              "      <td>1.626950e+02</td>\n",
              "      <td>1.560457e+02</td>\n",
              "      <td>0.000000</td>\n",
              "      <td>0.000000</td>\n",
              "      <td>1.200000e+02</td>\n",
              "      <td>2.800000e+02</td>\n",
              "      <td>1.160000e+03</td>\n",
              "    </tr>\n",
              "    <tr>\n",
              "      <th>v14</th>\n",
              "      <td>3700.0</td>\n",
              "      <td>2.246706e+03</td>\n",
              "      <td>8.708571e+03</td>\n",
              "      <td>0.000000</td>\n",
              "      <td>0.000000</td>\n",
              "      <td>1.130000e+02</td>\n",
              "      <td>1.059750e+03</td>\n",
              "      <td>1.000000e+05</td>\n",
              "    </tr>\n",
              "    <tr>\n",
              "      <th>v15</th>\n",
              "      <td>3600.0</td>\n",
              "      <td>1.626950e+06</td>\n",
              "      <td>1.560457e+06</td>\n",
              "      <td>0.000000</td>\n",
              "      <td>0.000000</td>\n",
              "      <td>1.200000e+06</td>\n",
              "      <td>2.800000e+06</td>\n",
              "      <td>1.160000e+07</td>\n",
              "    </tr>\n",
              "    <tr>\n",
              "      <th>v17</th>\n",
              "      <td>3700.0</td>\n",
              "      <td>9.254054e-01</td>\n",
              "      <td>2.627716e-01</td>\n",
              "      <td>0.000000</td>\n",
              "      <td>1.000000</td>\n",
              "      <td>1.000000e+00</td>\n",
              "      <td>1.000000e+00</td>\n",
              "      <td>1.000000e+00</td>\n",
              "    </tr>\n",
              "  </tbody>\n",
              "</table>\n",
              "</div>"
            ],
            "text/plain": [
              "      count          mean  ...           75%           max\n",
              "v2   3661.0  3.282071e+01  ...  4.083000e+01  8.025000e+01\n",
              "v3   3700.0  5.847872e-04  ...  9.625000e-04  2.800000e-03\n",
              "v5   3700.0 -5.331808e-02  ...  2.406251e+00  4.999274e+00\n",
              "v6   3700.0  7.841879e-01  ...  8.760522e-01  1.215066e+00\n",
              "v7   3700.0  3.439496e+00  ...  5.000000e+00  2.850000e+01\n",
              "v10  3700.0  4.160000e+00  ...  6.000000e+00  6.700000e+01\n",
              "v13  3600.0  1.626950e+02  ...  2.800000e+02  1.160000e+03\n",
              "v14  3700.0  2.246706e+03  ...  1.059750e+03  1.000000e+05\n",
              "v15  3600.0  1.626950e+06  ...  2.800000e+06  1.160000e+07\n",
              "v17  3700.0  9.254054e-01  ...  1.000000e+00  1.000000e+00\n",
              "\n",
              "[10 rows x 8 columns]"
            ]
          },
          "metadata": {
            "tags": []
          },
          "execution_count": 49
        }
      ]
    },
    {
      "cell_type": "code",
      "metadata": {
        "colab": {
          "base_uri": "https://localhost:8080/",
          "height": 295
        },
        "id": "m4gwjmMJjTsO",
        "outputId": "c6b86b64-876c-4401-a9c9-448bac5c381a"
      },
      "source": [
        "tt.print_stats_object"
      ],
      "execution_count": 50,
      "outputs": [
        {
          "output_type": "execute_result",
          "data": {
            "text/html": [
              "<div>\n",
              "<style scoped>\n",
              "    .dataframe tbody tr th:only-of-type {\n",
              "        vertical-align: middle;\n",
              "    }\n",
              "\n",
              "    .dataframe tbody tr th {\n",
              "        vertical-align: top;\n",
              "    }\n",
              "\n",
              "    .dataframe thead th {\n",
              "        text-align: right;\n",
              "    }\n",
              "</style>\n",
              "<table border=\"1\" class=\"dataframe\">\n",
              "  <thead>\n",
              "    <tr style=\"text-align: right;\">\n",
              "      <th></th>\n",
              "      <th>count</th>\n",
              "      <th>unique</th>\n",
              "      <th>top</th>\n",
              "      <th>freq</th>\n",
              "    </tr>\n",
              "  </thead>\n",
              "  <tbody>\n",
              "    <tr>\n",
              "      <th>v1</th>\n",
              "      <td>3661</td>\n",
              "      <td>2</td>\n",
              "      <td>b</td>\n",
              "      <td>2382</td>\n",
              "    </tr>\n",
              "    <tr>\n",
              "      <th>v4</th>\n",
              "      <td>3636</td>\n",
              "      <td>3</td>\n",
              "      <td>u</td>\n",
              "      <td>3055</td>\n",
              "    </tr>\n",
              "    <tr>\n",
              "      <th>v8</th>\n",
              "      <td>3700</td>\n",
              "      <td>2</td>\n",
              "      <td>t</td>\n",
              "      <td>3171</td>\n",
              "    </tr>\n",
              "    <tr>\n",
              "      <th>v9</th>\n",
              "      <td>3700</td>\n",
              "      <td>2</td>\n",
              "      <td>t</td>\n",
              "      <td>2239</td>\n",
              "    </tr>\n",
              "    <tr>\n",
              "      <th>v11</th>\n",
              "      <td>3700</td>\n",
              "      <td>2</td>\n",
              "      <td>f</td>\n",
              "      <td>1924</td>\n",
              "    </tr>\n",
              "    <tr>\n",
              "      <th>v12</th>\n",
              "      <td>3700</td>\n",
              "      <td>3</td>\n",
              "      <td>g</td>\n",
              "      <td>3430</td>\n",
              "    </tr>\n",
              "    <tr>\n",
              "      <th>v16</th>\n",
              "      <td>1555</td>\n",
              "      <td>2</td>\n",
              "      <td>t</td>\n",
              "      <td>1023</td>\n",
              "    </tr>\n",
              "    <tr>\n",
              "      <th>classLabel</th>\n",
              "      <td>3700</td>\n",
              "      <td>2</td>\n",
              "      <td>yes.</td>\n",
              "      <td>3424</td>\n",
              "    </tr>\n",
              "  </tbody>\n",
              "</table>\n",
              "</div>"
            ],
            "text/plain": [
              "           count unique   top  freq\n",
              "v1          3661      2     b  2382\n",
              "v4          3636      3     u  3055\n",
              "v8          3700      2     t  3171\n",
              "v9          3700      2     t  2239\n",
              "v11         3700      2     f  1924\n",
              "v12         3700      3     g  3430\n",
              "v16         1555      2     t  1023\n",
              "classLabel  3700      2  yes.  3424"
            ]
          },
          "metadata": {
            "tags": []
          },
          "execution_count": 50
        }
      ]
    },
    {
      "cell_type": "markdown",
      "metadata": {
        "id": "B_aAVfLJWtU9"
      },
      "source": [
        "# Tensorflow StatGen maybe better"
      ]
    },
    {
      "cell_type": "code",
      "metadata": {
        "id": "uTLxggtGawn8"
      },
      "source": [
        "import tensorflow_data_validation as tfdv"
      ],
      "execution_count": 51,
      "outputs": []
    },
    {
      "cell_type": "code",
      "metadata": {
        "id": "MXsas27umefz"
      },
      "source": [
        "train_stats = tfdv.generate_statistics_from_csv(data_location='/content/data/train.csv')"
      ],
      "execution_count": 52,
      "outputs": []
    },
    {
      "cell_type": "code",
      "metadata": {
        "colab": {
          "base_uri": "https://localhost:8080/",
          "height": 1000
        },
        "id": "zHWhvdgZpGLy",
        "outputId": "54061cb0-d788-42e0-b785-f1dfd5192cf0"
      },
      "source": [
        "tfdv.visualize_statistics(train_stats)"
      ],
      "execution_count": 54,
      "outputs": [
        {
          "output_type": "display_data",
          "data": {
            "text/html": [
              "<iframe id='facets-iframe' width=\"100%\" height=\"500px\"></iframe>\n",
              "        <script>\n",
              "        facets_iframe = document.getElementById('facets-iframe');\n",
              "        facets_html = '<script src=\"https://cdnjs.cloudflare.com/ajax/libs/webcomponentsjs/1.3.3/webcomponents-lite.js\"><\\/script><link rel=\"import\" href=\"https://raw.githubusercontent.com/PAIR-code/facets/master/facets-dist/facets-jupyter.html\"><facets-overview proto-input=\"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\"></facets-overview>';\n",
              "        facets_iframe.srcdoc = facets_html;\n",
              "         facets_iframe.id = \"\";\n",
              "         setTimeout(() => {\n",
              "           facets_iframe.setAttribute('height', facets_iframe.contentWindow.document.body.offsetHeight + 'px')\n",
              "         }, 1500)\n",
              "         </script>"
            ],
            "text/plain": [
              "<IPython.core.display.HTML object>"
            ]
          },
          "metadata": {
            "tags": []
          }
        }
      ]
    },
    {
      "cell_type": "code",
      "metadata": {
        "id": "xAewyB95s_ql"
      },
      "source": [
        ""
      ],
      "execution_count": null,
      "outputs": []
    }
  ]
}