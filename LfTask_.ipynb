{
  "nbformat": 4,
  "nbformat_minor": 0,
  "metadata": {
    "colab": {
      "name": "LfTask_.ipynb",
      "provenance": [],
      "collapsed_sections": [],
      "authorship_tag": "ABX9TyMLrSNewtoXttghulgCBv22",
      "include_colab_link": true
    },
    "kernelspec": {
      "name": "python3",
      "display_name": "Python 3"
    },
    "language_info": {
      "name": "python"
    }
  },
  "cells": [
    {
      "cell_type": "markdown",
      "metadata": {
        "id": "view-in-github",
        "colab_type": "text"
      },
      "source": [
        "<a href=\"https://colab.research.google.com/github/vsnupoudel/Flask/blob/final/LfTask_.ipynb\" target=\"_parent\"><img src=\"https://colab.research.google.com/assets/colab-badge.svg\" alt=\"Open In Colab\"/></a>"
      ]
    },
    {
      "cell_type": "code",
      "metadata": {
        "id": "1S1kIlmVVhs9"
      },
      "source": [
        "import numpy as np\n",
        "import pandas as pd\n",
        "import random"
      ],
      "execution_count": 1,
      "outputs": []
    },
    {
      "cell_type": "code",
      "metadata": {
        "colab": {
          "base_uri": "https://localhost:8080/"
        },
        "id": "bepnKTwIkGrj",
        "outputId": "f9500fd1-081a-41e2-dcd7-fc4113868518"
      },
      "source": [
        "!mkdir -p '/content/data/'\n",
        "%cd /content/data/"
      ],
      "execution_count": 2,
      "outputs": [
        {
          "output_type": "stream",
          "text": [
            "/content/data\n"
          ],
          "name": "stdout"
        }
      ]
    },
    {
      "cell_type": "code",
      "metadata": {
        "colab": {
          "resources": {
            "http://localhost:8080/nbextensions/google.colab/files.js": {
              "data": "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",
              "ok": true,
              "headers": [
                [
                  "content-type",
                  "application/javascript"
                ]
              ],
              "status": 200,
              "status_text": ""
            }
          },
          "base_uri": "https://localhost:8080/",
          "height": 106
        },
        "id": "t3l6HHqgpIw1",
        "outputId": "b924d5b0-288c-4def-9a37-90bd8fecb79f"
      },
      "source": [
        "from google.colab import files\n",
        "uploaded = files.upload()"
      ],
      "execution_count": 3,
      "outputs": [
        {
          "output_type": "display_data",
          "data": {
            "text/html": [
              "\n",
              "     <input type=\"file\" id=\"files-b48a0bb2-b925-4cf9-ae4d-8284ecdca517\" name=\"files[]\" multiple disabled\n",
              "        style=\"border:none\" />\n",
              "     <output id=\"result-b48a0bb2-b925-4cf9-ae4d-8284ecdca517\">\n",
              "      Upload widget is only available when the cell has been executed in the\n",
              "      current browser session. Please rerun this cell to enable.\n",
              "      </output>\n",
              "      <script src=\"/nbextensions/google.colab/files.js\"></script> "
            ],
            "text/plain": [
              "<IPython.core.display.HTML object>"
            ]
          },
          "metadata": {
            "tags": []
          }
        },
        {
          "output_type": "stream",
          "text": [
            "Saving training.csv to training (1).csv\n",
            "Saving validation.csv to validation (1).csv\n"
          ],
          "name": "stdout"
        }
      ]
    },
    {
      "cell_type": "code",
      "metadata": {
        "colab": {
          "base_uri": "https://localhost:8080/",
          "height": 142
        },
        "id": "zzfrNKZFVnTg",
        "outputId": "8e40d6f6-7276-4731-bf58-d084c68abda3"
      },
      "source": [
        "train= pd.read_csv('/content/data/training.csv', delimiter=';', decimal=',')\n",
        "test= pd.read_csv('/content/data/validation.csv', delimiter=';', decimal=',')\n",
        "# random.seed(12)\n",
        "train.sample(3)"
      ],
      "execution_count": 4,
      "outputs": [
        {
          "output_type": "execute_result",
          "data": {
            "text/html": [
              "<div>\n",
              "<style scoped>\n",
              "    .dataframe tbody tr th:only-of-type {\n",
              "        vertical-align: middle;\n",
              "    }\n",
              "\n",
              "    .dataframe tbody tr th {\n",
              "        vertical-align: top;\n",
              "    }\n",
              "\n",
              "    .dataframe thead th {\n",
              "        text-align: right;\n",
              "    }\n",
              "</style>\n",
              "<table border=\"1\" class=\"dataframe\">\n",
              "  <thead>\n",
              "    <tr style=\"text-align: right;\">\n",
              "      <th></th>\n",
              "      <th>v1</th>\n",
              "      <th>v2</th>\n",
              "      <th>v3</th>\n",
              "      <th>v4</th>\n",
              "      <th>v5</th>\n",
              "      <th>v6</th>\n",
              "      <th>v7</th>\n",
              "      <th>v8</th>\n",
              "      <th>v9</th>\n",
              "      <th>v10</th>\n",
              "      <th>v11</th>\n",
              "      <th>v12</th>\n",
              "      <th>v13</th>\n",
              "      <th>v14</th>\n",
              "      <th>v15</th>\n",
              "      <th>v16</th>\n",
              "      <th>v17</th>\n",
              "      <th>classLabel</th>\n",
              "    </tr>\n",
              "  </thead>\n",
              "  <tbody>\n",
              "    <tr>\n",
              "      <th>3532</th>\n",
              "      <td>b</td>\n",
              "      <td>25.75</td>\n",
              "      <td>0.000075</td>\n",
              "      <td>u</td>\n",
              "      <td>-2.787882</td>\n",
              "      <td>0.823928</td>\n",
              "      <td>0.25</td>\n",
              "      <td>t</td>\n",
              "      <td>f</td>\n",
              "      <td>0</td>\n",
              "      <td>f</td>\n",
              "      <td>g</td>\n",
              "      <td>349.0</td>\n",
              "      <td>23</td>\n",
              "      <td>3490000.0</td>\n",
              "      <td>f</td>\n",
              "      <td>1</td>\n",
              "      <td>yes.</td>\n",
              "    </tr>\n",
              "    <tr>\n",
              "      <th>3047</th>\n",
              "      <td>b</td>\n",
              "      <td>NaN</td>\n",
              "      <td>0.000400</td>\n",
              "      <td>u</td>\n",
              "      <td>-2.628422</td>\n",
              "      <td>0.951555</td>\n",
              "      <td>5.00</td>\n",
              "      <td>t</td>\n",
              "      <td>t</td>\n",
              "      <td>3</td>\n",
              "      <td>t</td>\n",
              "      <td>g</td>\n",
              "      <td>290.0</td>\n",
              "      <td>2279</td>\n",
              "      <td>2900000.0</td>\n",
              "      <td>t</td>\n",
              "      <td>1</td>\n",
              "      <td>yes.</td>\n",
              "    </tr>\n",
              "    <tr>\n",
              "      <th>1167</th>\n",
              "      <td>b</td>\n",
              "      <td>22.67</td>\n",
              "      <td>0.000017</td>\n",
              "      <td>u</td>\n",
              "      <td>-2.525754</td>\n",
              "      <td>0.869987</td>\n",
              "      <td>2.25</td>\n",
              "      <td>f</td>\n",
              "      <td>f</td>\n",
              "      <td>0</td>\n",
              "      <td>t</td>\n",
              "      <td>s</td>\n",
              "      <td>0.0</td>\n",
              "      <td>0</td>\n",
              "      <td>0.0</td>\n",
              "      <td>NaN</td>\n",
              "      <td>1</td>\n",
              "      <td>yes.</td>\n",
              "    </tr>\n",
              "  </tbody>\n",
              "</table>\n",
              "</div>"
            ],
            "text/plain": [
              "     v1     v2        v3 v4        v5  ...   v14        v15  v16 v17  classLabel\n",
              "3532  b  25.75  0.000075  u -2.787882  ...    23  3490000.0    f   1        yes.\n",
              "3047  b    NaN  0.000400  u -2.628422  ...  2279  2900000.0    t   1        yes.\n",
              "1167  b  22.67  0.000017  u -2.525754  ...     0        0.0  NaN   1        yes.\n",
              "\n",
              "[3 rows x 18 columns]"
            ]
          },
          "metadata": {
            "tags": []
          },
          "execution_count": 4
        }
      ]
    },
    {
      "cell_type": "code",
      "metadata": {
        "colab": {
          "base_uri": "https://localhost:8080/",
          "height": 142
        },
        "id": "RToEfLb1dsim",
        "outputId": "81af66a9-2c05-4608-9f31-c89a13a6c4cf"
      },
      "source": [
        "test.sample(3)"
      ],
      "execution_count": 5,
      "outputs": [
        {
          "output_type": "execute_result",
          "data": {
            "text/html": [
              "<div>\n",
              "<style scoped>\n",
              "    .dataframe tbody tr th:only-of-type {\n",
              "        vertical-align: middle;\n",
              "    }\n",
              "\n",
              "    .dataframe tbody tr th {\n",
              "        vertical-align: top;\n",
              "    }\n",
              "\n",
              "    .dataframe thead th {\n",
              "        text-align: right;\n",
              "    }\n",
              "</style>\n",
              "<table border=\"1\" class=\"dataframe\">\n",
              "  <thead>\n",
              "    <tr style=\"text-align: right;\">\n",
              "      <th></th>\n",
              "      <th>v1</th>\n",
              "      <th>v2</th>\n",
              "      <th>v3</th>\n",
              "      <th>v4</th>\n",
              "      <th>v5</th>\n",
              "      <th>v6</th>\n",
              "      <th>v7</th>\n",
              "      <th>v8</th>\n",
              "      <th>v9</th>\n",
              "      <th>v10</th>\n",
              "      <th>v11</th>\n",
              "      <th>v12</th>\n",
              "      <th>v13</th>\n",
              "      <th>v14</th>\n",
              "      <th>v15</th>\n",
              "      <th>v16</th>\n",
              "      <th>v17</th>\n",
              "      <th>classLabel</th>\n",
              "    </tr>\n",
              "  </thead>\n",
              "  <tbody>\n",
              "    <tr>\n",
              "      <th>109</th>\n",
              "      <td>b</td>\n",
              "      <td>39.08</td>\n",
              "      <td>0.00060</td>\n",
              "      <td>u</td>\n",
              "      <td>4.084206</td>\n",
              "      <td>0.609260</td>\n",
              "      <td>1.29</td>\n",
              "      <td>t</td>\n",
              "      <td>t</td>\n",
              "      <td>5</td>\n",
              "      <td>t</td>\n",
              "      <td>g</td>\n",
              "      <td>108.0</td>\n",
              "      <td>1097</td>\n",
              "      <td>1080000.0</td>\n",
              "      <td>NaN</td>\n",
              "      <td>0</td>\n",
              "      <td>yes.</td>\n",
              "    </tr>\n",
              "    <tr>\n",
              "      <th>118</th>\n",
              "      <td>b</td>\n",
              "      <td>19.33</td>\n",
              "      <td>0.00095</td>\n",
              "      <td>u</td>\n",
              "      <td>3.517932</td>\n",
              "      <td>1.125362</td>\n",
              "      <td>1.00</td>\n",
              "      <td>t</td>\n",
              "      <td>f</td>\n",
              "      <td>0</td>\n",
              "      <td>t</td>\n",
              "      <td>g</td>\n",
              "      <td>60.0</td>\n",
              "      <td>400</td>\n",
              "      <td>600000.0</td>\n",
              "      <td>NaN</td>\n",
              "      <td>1</td>\n",
              "      <td>yes.</td>\n",
              "    </tr>\n",
              "    <tr>\n",
              "      <th>192</th>\n",
              "      <td>b</td>\n",
              "      <td>40.58</td>\n",
              "      <td>0.00050</td>\n",
              "      <td>u</td>\n",
              "      <td>-2.285672</td>\n",
              "      <td>0.746225</td>\n",
              "      <td>5.00</td>\n",
              "      <td>t</td>\n",
              "      <td>t</td>\n",
              "      <td>7</td>\n",
              "      <td>f</td>\n",
              "      <td>g</td>\n",
              "      <td>0.0</td>\n",
              "      <td>3065</td>\n",
              "      <td>0.0</td>\n",
              "      <td>NaN</td>\n",
              "      <td>1</td>\n",
              "      <td>yes.</td>\n",
              "    </tr>\n",
              "  </tbody>\n",
              "</table>\n",
              "</div>"
            ],
            "text/plain": [
              "    v1     v2       v3 v4        v5  ...   v14        v15  v16 v17  classLabel\n",
              "109  b  39.08  0.00060  u  4.084206  ...  1097  1080000.0  NaN   0        yes.\n",
              "118  b  19.33  0.00095  u  3.517932  ...   400   600000.0  NaN   1        yes.\n",
              "192  b  40.58  0.00050  u -2.285672  ...  3065        0.0  NaN   1        yes.\n",
              "\n",
              "[3 rows x 18 columns]"
            ]
          },
          "metadata": {
            "tags": []
          },
          "execution_count": 5
        }
      ]
    },
    {
      "cell_type": "code",
      "metadata": {
        "id": "KBPt7TImkafq"
      },
      "source": [
        "train.to_csv('/content/data/train.csv')\n",
        "test.to_csv('/content/data/test.csv')"
      ],
      "execution_count": 6,
      "outputs": []
    },
    {
      "cell_type": "markdown",
      "metadata": {
        "id": "30JvNMD1WAzu"
      },
      "source": [
        "\n",
        "# Extending pandas dataframe"
      ]
    },
    {
      "cell_type": "code",
      "metadata": {
        "id": "qz0ARYWFiT-1"
      },
      "source": [
        "import pandas as pd\n",
        "class HLSpd():\n",
        "  def __init__(self, csvInput):\n",
        "    self.df = pd.read_csv(csvInput)\n",
        "      \n",
        "  def print_stats_numeric(self):\n",
        "      return self.df.describe(include= np.number).transpose().to_json()\n",
        "      \n",
        "  def print_stats_object(self):\n",
        "      return self.df.describe(include= np.object).transpose().to_json()"
      ],
      "execution_count": 38,
      "outputs": []
    },
    {
      "cell_type": "code",
      "metadata": {
        "id": "KhRCYHQaigjB"
      },
      "source": [
        "tt = HLSpd('/content/data/train.csv')"
      ],
      "execution_count": 39,
      "outputs": []
    },
    {
      "cell_type": "code",
      "metadata": {
        "colab": {
          "base_uri": "https://localhost:8080/",
          "height": 154
        },
        "id": "7p-k0Snki4HO",
        "outputId": "a62f2874-20ff-440b-d327-174a076d2305"
      },
      "source": [
        "tt.print_stats_numeric()"
      ],
      "execution_count": 40,
      "outputs": [
        {
          "output_type": "execute_result",
          "data": {
            "application/vnd.google.colaboratory.intrinsic+json": {
              "type": "string"
            },
            "text/plain": [
              "'{\"count\":{\"Unnamed: 0\":3700.0,\"v2\":3661.0,\"v3\":3700.0,\"v5\":3700.0,\"v6\":3700.0,\"v7\":3700.0,\"v10\":3700.0,\"v13\":3600.0,\"v14\":3700.0,\"v15\":3600.0,\"v17\":3700.0},\"mean\":{\"Unnamed: 0\":1849.5,\"v2\":32.82071292,\"v3\":0.0005847872,\"v5\":-0.0533180805,\"v6\":0.7841878574,\"v7\":3.4394959459,\"v10\":4.16,\"v13\":162.695,\"v14\":2246.7059459459,\"v15\":1626950.0,\"v17\":0.9254054054},\"std\":{\"Unnamed: 0\":1068.2423258169,\"v2\":12.6661807791,\"v3\":0.0005402007,\"v5\":2.8712401118,\"v6\":0.1365138416,\"v7\":4.3352286168,\"v10\":6.7505525291,\"v13\":156.0456818485,\"v14\":8708.5711258401,\"v15\":1560456.818484962,\"v17\":0.2627715794},\"min\":{\"Unnamed: 0\":0.0,\"v2\":13.75,\"v3\":0.0,\"v5\":-4.9969390687,\"v6\":0.2739450924,\"v7\":0.0,\"v10\":0.0,\"v13\":0.0,\"v14\":0.0,\"v15\":0.0,\"v17\":0.0},\"25%\":{\"Unnamed: 0\":924.75,\"v2\":23.0,\"v3\":0.00015,\"v5\":-2.5163489743,\"v6\":0.6931302993,\"v7\":0.5,\"v10\":0.0,\"v13\":0.0,\"v14\":0.0,\"v15\":0.0,\"v17\":1.0},\"50%\":{\"Unnamed: 0\":1849.5,\"v2\":28.67,\"v3\":0.000425,\"v5\":-0.0527862075,\"v6\":0.7878423926,\"v7\":1.75,\"v10\":2.0,\"v13\":120.0,\"v14\":113.0,\"v15\":1200000.0,\"v17\":1.0},\"75%\":{\"Unnamed: 0\":2774.25,\"v2\":40.83,\"v3\":0.0009625,\"v5\":2.4062506831,\"v6\":0.8760522218,\"v7\":5.0,\"v10\":6.0,\"v13\":280.0,\"v14\":1059.75,\"v15\":2800000.0,\"v17\":1.0},\"max\":{\"Unnamed: 0\":3699.0,\"v2\":80.25,\"v3\":0.0028,\"v5\":4.9992739968,\"v6\":1.2150658299,\"v7\":28.5,\"v10\":67.0,\"v13\":1160.0,\"v14\":100000.0,\"v15\":11600000.0,\"v17\":1.0}}'"
            ]
          },
          "metadata": {
            "tags": []
          },
          "execution_count": 40
        }
      ]
    },
    {
      "cell_type": "code",
      "metadata": {
        "colab": {
          "base_uri": "https://localhost:8080/",
          "height": 69
        },
        "id": "m4gwjmMJjTsO",
        "outputId": "7cabcf2b-f122-41f1-f8df-8c68592e61a2"
      },
      "source": [
        "tt.print_stats_object()"
      ],
      "execution_count": 41,
      "outputs": [
        {
          "output_type": "execute_result",
          "data": {
            "application/vnd.google.colaboratory.intrinsic+json": {
              "type": "string"
            },
            "text/plain": [
              "'{\"count\":{\"v1\":3661,\"v4\":3636,\"v8\":3700,\"v9\":3700,\"v11\":3700,\"v12\":3700,\"v16\":1555,\"classLabel\":3700},\"unique\":{\"v1\":2,\"v4\":3,\"v8\":2,\"v9\":2,\"v11\":2,\"v12\":3,\"v16\":2,\"classLabel\":2},\"top\":{\"v1\":\"b\",\"v4\":\"u\",\"v8\":\"t\",\"v9\":\"t\",\"v11\":\"f\",\"v12\":\"g\",\"v16\":\"t\",\"classLabel\":\"yes.\"},\"freq\":{\"v1\":2382,\"v4\":3055,\"v8\":3171,\"v9\":2239,\"v11\":1924,\"v12\":3430,\"v16\":1023,\"classLabel\":3424}}'"
            ]
          },
          "metadata": {
            "tags": []
          },
          "execution_count": 41
        }
      ]
    },
    {
      "cell_type": "markdown",
      "metadata": {
        "id": "B_aAVfLJWtU9"
      },
      "source": [
        "# Tensorflow StatGen maybe better\n",
        "- Installation wll take upto 2 minutes"
      ]
    },
    {
      "cell_type": "code",
      "metadata": {
        "id": "x-kxqSlLpnnN"
      },
      "source": [
        "# !pip install tensorflow_data_validation"
      ],
      "execution_count": 11,
      "outputs": []
    },
    {
      "cell_type": "code",
      "metadata": {
        "id": "MXsas27umefz"
      },
      "source": [
        "import tensorflow_data_validation as tfdv\n",
        "class HLStf():\n",
        "  def __init__( self, csvInput):\n",
        "    self.csvInput = csvInput\n",
        "    self.gen_stats = None\n",
        "\n",
        "  def generate_HLstats_json(self):\n",
        "    self.gen_stats=  tfdv.generate_statistics_from_csv(data_location= self.csvInput)\n",
        "\n",
        "  def visualize_HLstats(self):\n",
        "    return tfdv.visualize_statistics(self.gen_stats)"
      ],
      "execution_count": 29,
      "outputs": []
    },
    {
      "cell_type": "code",
      "metadata": {
        "id": "zHWhvdgZpGLy"
      },
      "source": [
        "hlstf = HLStf('/content/data/train.csv')"
      ],
      "execution_count": 30,
      "outputs": []
    },
    {
      "cell_type": "code",
      "metadata": {
        "id": "xAewyB95s_ql"
      },
      "source": [
        "hlstf.generate_HLstats_json()"
      ],
      "execution_count": 31,
      "outputs": []
    },
    {
      "cell_type": "code",
      "metadata": {
        "colab": {
          "base_uri": "https://localhost:8080/",
          "height": 1000
        },
        "id": "zd8CzsJwry38",
        "outputId": "a9a2a427-65f8-43be-df3d-1506fab4abca"
      },
      "source": [
        "hlstf.visualize_HLstats()"
      ],
      "execution_count": 32,
      "outputs": [
        {
          "output_type": "display_data",
          "data": {
            "text/html": [
              "<iframe id='facets-iframe' width=\"100%\" height=\"500px\"></iframe>\n",
              "        <script>\n",
              "        facets_iframe = document.getElementById('facets-iframe');\n",
              "        facets_html = '<script src=\"https://cdnjs.cloudflare.com/ajax/libs/webcomponentsjs/1.3.3/webcomponents-lite.js\"><\\/script><link rel=\"import\" href=\"https://raw.githubusercontent.com/PAIR-code/facets/master/facets-dist/facets-jupyter.html\"><facets-overview proto-input=\"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\"></facets-overview>';\n",
              "        facets_iframe.srcdoc = facets_html;\n",
              "         facets_iframe.id = \"\";\n",
              "         setTimeout(() => {\n",
              "           facets_iframe.setAttribute('height', facets_iframe.contentWindow.document.body.offsetHeight + 'px')\n",
              "         }, 1500)\n",
              "         </script>"
            ],
            "text/plain": [
              "<IPython.core.display.HTML object>"
            ]
          },
          "metadata": {
            "tags": []
          }
        }
      ]
    },
    {
      "cell_type": "code",
      "metadata": {
        "id": "TEGLW0UJsXdh"
      },
      "source": [
        ""
      ],
      "execution_count": null,
      "outputs": []
    }
  ]
}